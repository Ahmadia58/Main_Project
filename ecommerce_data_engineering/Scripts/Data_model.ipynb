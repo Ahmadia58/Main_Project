{
 "cells": [
  {
   "cell_type": "markdown",
   "id": "931b552b",
   "metadata": {},
   "source": [
    "<div style=\"background-color:#4EA72E;  padding:5px; border-radius:20px;\">\n",
    "    \n",
    "  <p style=\"color:#DC2512; text-align:center; font-size:40px;\"> E-commerce Data Warehouse Project  </p>\n",
    " \n",
    "</div>"
   ]
  },
  {
   "cell_type": "markdown",
   "id": "9943c49c",
   "metadata": {},
   "source": [
    "<div style=\"background-color:#17DCD7;  padding:10px; border-radius:10px;\">\n",
    "    \n",
    "  <p style=\"color:#D67218; text-align:center; font-size:20px;\"> Import Library  </p>\n",
    " \n",
    "</div>"
   ]
  },
  {
   "cell_type": "code",
   "execution_count": null,
   "id": "e3009436",
   "metadata": {},
   "outputs": [],
   "source": [
    "import numpy as np\n",
    "import pandas as pd\n",
    "import matplotlib.pyplot as plt\n",
    "import seaborn as sns\n"
   ]
  },
  {
   "cell_type": "markdown",
   "id": "a0e00a90",
   "metadata": {},
   "source": [
    "<div style=\"background-color:#17DCD7;  padding:10px; border-radius:10px;\">\n",
    "    \n",
    "  <p style=\"color:#D67218; text-align:center; font-size:20px;\"> Insert Data  </p>\n",
    " \n",
    "</div>"
   ]
  },
  {
   "cell_type": "code",
   "execution_count": null,
   "id": "9cb73c0b",
   "metadata": {},
   "outputs": [],
   "source": [
    "customers=pd.read_csv('E:/Data Analysis/Projct3/Main_project/ecommerce_data_engineering/Raw_data/olist_customers_dataset.csv')\n",
    "\n",
    "geo=pd.read_csv('E:/Data Analysis/Projct3/Main_project/ecommerce_data_engineering/Raw_data/olist_geolocation_dataset.csv')\n",
    "order_items=pd.read_csv('E:/Data Analysis/Projct3/Main_project/ecommerce_data_engineering/Raw_data/olist_order_items_dataset.csv')\n",
    "order_payments=pd.read_csv('E:/Data Analysis/Projct3/Main_project/ecommerce_data_engineering/Raw_data/olist_order_payments_dataset.csv')\n",
    "order_reviews=pd.read_csv('E:/Data Analysis/Projct3/Main_project/ecommerce_data_engineering/Raw_data/olist_order_reviews_dataset.csv')\n",
    "order_dataset=pd.read_csv('E:/Data Analysis/Projct3/Main_project/ecommerce_data_engineering/Raw_data/olist_orders_dataset.csv')\n",
    "products=pd.read_csv('E:/Data Analysis/Projct3/Main_project/ecommerce_data_engineering/Raw_data/olist_products_dataset.csv')\n",
    "sellers=pd.read_csv('E:/Data Analysis/Projct3/Main_project/ecommerce_data_engineering/Raw_data/olist_sellers_dataset.csv')\n",
    "category_translation=pd.read_csv('E:/Data Analysis/Projct3/Main_project/ecommerce_data_engineering/Raw_data/product_category_name_translation.csv')\n"
   ]
  },
  {
   "cell_type": "code",
   "execution_count": null,
   "id": "94f1a437",
   "metadata": {},
   "outputs": [
    {
     "name": "stdout",
     "output_type": "stream",
     "text": [
      "7         810.00\n",
      "16        639.00\n",
      "26        289.00\n",
      "30        397.00\n",
      "39        809.10\n",
      "           ...  \n",
      "112586    299.99\n",
      "112592    278.00\n",
      "112632    736.00\n",
      "112645    299.99\n",
      "112646    350.00\n",
      "Name: price, Length: 8427, dtype: float64\n",
      "outlier_price: 8427\n"
     ]
    }
   ],
   "source": [
    "Q1 = order_items['price'].quantile(0.25)\n",
    "Q3 = order_items['price'].quantile(0.75)\n",
    "IQR = Q3 - Q1\n",
    "lower_bound = Q1 - 1.5 * IQR\n",
    "upper_bound = Q3 + 1.5 * IQR\n",
    "outliers = order_items[(order_items['price'] < lower_bound) | (order_items['price'] > upper_bound)]\n",
    "print(outliers['price'])\n",
    "print(\"outlier_price:\",outliers['price'].value_counts().sum())"
   ]
  },
  {
   "cell_type": "code",
   "execution_count": null,
   "id": "0238b16f",
   "metadata": {},
   "outputs": [
    {
     "name": "stdout",
     "output_type": "stream",
     "text": [
      "124        85.97\n",
      "162        87.28\n",
      "352        97.56\n",
      "456        98.13\n",
      "590        94.98\n",
      "           ...  \n",
      "112014     86.77\n",
      "112233    193.21\n",
      "112359    170.11\n",
      "112450     84.52\n",
      "112472    127.55\n",
      "Name: freight_value, Length: 1128, dtype: float64\n",
      "Q99: 84.52\n",
      "outlier_freight_value99: 1128\n",
      "0         13.29\n",
      "1         19.93\n",
      "2         17.87\n",
      "3         12.79\n",
      "4         18.14\n",
      "          ...  \n",
      "112645    43.41\n",
      "112646    36.53\n",
      "112647    16.95\n",
      "112648     8.72\n",
      "112649    12.79\n",
      "Name: freight_value, Length: 111522, dtype: float64\n"
     ]
    }
   ],
   "source": [
    "Q99 = order_items['freight_value'].quantile(.99)\n",
    "outliers = order_items[(order_items['freight_value'] >= Q99)]\n",
    "print(outliers['freight_value'])\n",
    "print(\"Q99:\",  Q99)\n",
    "print(\"outlier_freight_value99:\",outliers['freight_value'].value_counts().sum())\n",
    "order_items=order_items[order_items['freight_value']<Q99]\n",
    "print(order_items['freight_value'])"
   ]
  },
  {
   "cell_type": "code",
   "execution_count": null,
   "id": "77f5463f",
   "metadata": {},
   "outputs": [
    {
     "data": {
      "text/plain": [
       "0"
      ]
     },
     "metadata": {},
     "output_type": "display_data"
    }
   ],
   "source": [
    "order_items[order_items['freight_value']<0].value_counts().sum()"
   ]
  },
  {
   "cell_type": "markdown",
   "id": "691b87a4",
   "metadata": {},
   "source": [
    "<div style=\"background-color:#92D050;  padding:10px; border-radius:5px;\">\n",
    "    \n",
    "  <p style=\"color:#EB2213; text-align:center; font-size:15px;\"> Cleaning </p>\n",
    " \n",
    "</div>"
   ]
  },
  {
   "cell_type": "code",
   "execution_count": null,
   "id": "fca08d03",
   "metadata": {},
   "outputs": [],
   "source": [
    "\n",
    "filtered_df = order_items[order_items['freight_value']>=Q99]\n",
    "order_items = order_items.drop(index=filtered_df.index)\n",
    "order_items['shipping_limit_date']=pd.to_datetime(order_items['shipping_limit_date'])\n"
   ]
  },
  {
   "cell_type": "markdown",
   "id": "55f5cd78",
   "metadata": {},
   "source": [
    "<div style=\"background-color:#17DCD7;  padding:10px; border-radius:10px;\">\n",
    "    \n",
    "  <p style=\"color:#D67218; text-align:center; font-size:20px;\"> order_reviews</p>\n",
    " \n",
    "</div>"
   ]
  },
  {
   "cell_type": "markdown",
   "id": "74611d21",
   "metadata": {},
   "source": [
    "<div style=\"background-color:#92D050;  padding:10px; border-radius:5px;\">\n",
    "    \n",
    "  <p style=\"color:#EB2213; text-align:center; font-size:15px;\"> Cleaning </p>\n",
    " \n",
    "</div>"
   ]
  },
  {
   "cell_type": "code",
   "execution_count": null,
   "id": "a3f81dd3",
   "metadata": {},
   "outputs": [],
   "source": [
    "order_reviews['review_comment_title']=order_reviews['review_comment_title'].fillna('NoTitle')\n",
    "order_reviews['review_comment_message']=order_reviews['review_comment_message'].fillna('Nomessage')"
   ]
  },
  {
   "cell_type": "code",
   "execution_count": null,
   "id": "cc2ff403",
   "metadata": {},
   "outputs": [
    {
     "data": {
      "text/html": [
       "<div>\n",
       "<style scoped>\n",
       "    .dataframe tbody tr th:only-of-type {\n",
       "        vertical-align: middle;\n",
       "    }\n",
       "\n",
       "    .dataframe tbody tr th {\n",
       "        vertical-align: top;\n",
       "    }\n",
       "\n",
       "    .dataframe thead th {\n",
       "        text-align: right;\n",
       "    }\n",
       "</style>\n",
       "<table border=\"1\" class=\"dataframe\">\n",
       "  <thead>\n",
       "    <tr style=\"text-align: right;\">\n",
       "      <th></th>\n",
       "      <th>review_id</th>\n",
       "      <th>order_id</th>\n",
       "      <th>review_score</th>\n",
       "      <th>review_comment_title</th>\n",
       "      <th>review_comment_message</th>\n",
       "      <th>review_creation_date</th>\n",
       "      <th>review_answer_timestamp</th>\n",
       "    </tr>\n",
       "  </thead>\n",
       "  <tbody>\n",
       "    <tr>\n",
       "      <th>0</th>\n",
       "      <td>7bc2406110b926393aa56f80a40eba40</td>\n",
       "      <td>73fc7af87114b39712e6da79b0a377eb</td>\n",
       "      <td>4</td>\n",
       "      <td>NoTitle</td>\n",
       "      <td>Nomessage</td>\n",
       "      <td>2018-01-18 00:00:00</td>\n",
       "      <td>2018-01-18 21:46:59</td>\n",
       "    </tr>\n",
       "    <tr>\n",
       "      <th>1</th>\n",
       "      <td>80e641a11e56f04c1ad469d5645fdfde</td>\n",
       "      <td>a548910a1c6147796b98fdf73dbeba33</td>\n",
       "      <td>5</td>\n",
       "      <td>NoTitle</td>\n",
       "      <td>Nomessage</td>\n",
       "      <td>2018-03-10 00:00:00</td>\n",
       "      <td>2018-03-11 03:05:13</td>\n",
       "    </tr>\n",
       "    <tr>\n",
       "      <th>2</th>\n",
       "      <td>228ce5500dc1d8e020d8d1322874b6f0</td>\n",
       "      <td>f9e4b658b201a9f2ecdecbb34bed034b</td>\n",
       "      <td>5</td>\n",
       "      <td>NoTitle</td>\n",
       "      <td>Nomessage</td>\n",
       "      <td>2018-02-17 00:00:00</td>\n",
       "      <td>2018-02-18 14:36:24</td>\n",
       "    </tr>\n",
       "    <tr>\n",
       "      <th>3</th>\n",
       "      <td>e64fb393e7b32834bb789ff8bb30750e</td>\n",
       "      <td>658677c97b385a9be170737859d3511b</td>\n",
       "      <td>5</td>\n",
       "      <td>NoTitle</td>\n",
       "      <td>Recebi bem antes do prazo estipulado.</td>\n",
       "      <td>2017-04-21 00:00:00</td>\n",
       "      <td>2017-04-21 22:02:06</td>\n",
       "    </tr>\n",
       "    <tr>\n",
       "      <th>4</th>\n",
       "      <td>f7c4243c7fe1938f181bec41a392bdeb</td>\n",
       "      <td>8e6bfb81e283fa7e4f11123a3fb894f1</td>\n",
       "      <td>5</td>\n",
       "      <td>NoTitle</td>\n",
       "      <td>Parabéns lojas lannister adorei comprar pela I...</td>\n",
       "      <td>2018-03-01 00:00:00</td>\n",
       "      <td>2018-03-02 10:26:53</td>\n",
       "    </tr>\n",
       "  </tbody>\n",
       "</table>\n",
       "</div>"
      ],
      "text/plain": [
       "                          review_id                          order_id  \\\n",
       "0  7bc2406110b926393aa56f80a40eba40  73fc7af87114b39712e6da79b0a377eb   \n",
       "1  80e641a11e56f04c1ad469d5645fdfde  a548910a1c6147796b98fdf73dbeba33   \n",
       "2  228ce5500dc1d8e020d8d1322874b6f0  f9e4b658b201a9f2ecdecbb34bed034b   \n",
       "3  e64fb393e7b32834bb789ff8bb30750e  658677c97b385a9be170737859d3511b   \n",
       "4  f7c4243c7fe1938f181bec41a392bdeb  8e6bfb81e283fa7e4f11123a3fb894f1   \n",
       "\n",
       "   review_score review_comment_title  \\\n",
       "0             4              NoTitle   \n",
       "1             5              NoTitle   \n",
       "2             5              NoTitle   \n",
       "3             5              NoTitle   \n",
       "4             5              NoTitle   \n",
       "\n",
       "                              review_comment_message review_creation_date  \\\n",
       "0                                          Nomessage  2018-01-18 00:00:00   \n",
       "1                                          Nomessage  2018-03-10 00:00:00   \n",
       "2                                          Nomessage  2018-02-17 00:00:00   \n",
       "3              Recebi bem antes do prazo estipulado.  2017-04-21 00:00:00   \n",
       "4  Parabéns lojas lannister adorei comprar pela I...  2018-03-01 00:00:00   \n",
       "\n",
       "  review_answer_timestamp  \n",
       "0     2018-01-18 21:46:59  \n",
       "1     2018-03-11 03:05:13  \n",
       "2     2018-02-18 14:36:24  \n",
       "3     2017-04-21 22:02:06  \n",
       "4     2018-03-02 10:26:53  "
      ]
     },
     "metadata": {},
     "output_type": "display_data"
    }
   ],
   "source": [
    "order_reviews.head()"
   ]
  },
  {
   "cell_type": "markdown",
   "id": "3757a8e6",
   "metadata": {},
   "source": [
    "<div style=\"background-color:#17DCD7;  padding:10px; border-radius:10px;\">\n",
    "    \n",
    "  <p style=\"color:#D67218; text-align:center; font-size:20px;\"> order_dataset</p>\n",
    " \n",
    "</div>"
   ]
  },
  {
   "cell_type": "markdown",
   "id": "102e7807",
   "metadata": {},
   "source": [
    "<div style=\"background-color:#92D050;  padding:10px; border-radius:5px;\">\n",
    "    \n",
    "  <p style=\"color:#EB2213; text-align:center; font-size:15px;\"> Cleaning </p>\n",
    " \n",
    "</div>"
   ]
  },
  {
   "cell_type": "code",
   "execution_count": null,
   "id": "608864ff",
   "metadata": {},
   "outputs": [],
   "source": [
    "order_dataset['order_purchase_timestamp']=pd.to_datetime(order_dataset['order_purchase_timestamp'])\n",
    "order_dataset['order_approved_at']=pd.to_datetime(order_dataset['order_approved_at'])\n",
    "order_dataset['order_delivered_carrier_date']=pd.to_datetime(order_dataset['order_delivered_carrier_date'])\n",
    "order_dataset['order_delivered_customer_date']=pd.to_datetime(order_dataset['order_delivered_customer_date'])\n",
    "order_dataset['order_estimated_delivery_date']=pd.to_datetime(order_dataset['order_estimated_delivery_date'])"
   ]
  },
  {
   "cell_type": "code",
   "execution_count": null,
   "id": "9303755e",
   "metadata": {},
   "outputs": [],
   "source": [
    "\n",
    "filtered_order_dataset = order_dataset[order_dataset['order_delivered_carrier_date']>order_dataset['order_delivered_customer_date']]\n",
    "order_dataset = order_dataset.drop(index=filtered_order_dataset.index)\n"
   ]
  },
  {
   "cell_type": "code",
   "execution_count": null,
   "id": "47c6a686",
   "metadata": {},
   "outputs": [],
   "source": [
    "order_dataset=order_dataset.dropna(subset=['order_approved_at','order_delivered_carrier_date','order_delivered_customer_date'])"
   ]
  },
  {
   "cell_type": "markdown",
   "id": "1325a04f",
   "metadata": {},
   "source": [
    "<div style=\"background-color:#17DCD7;  padding:10px; border-radius:10px;\">\n",
    "    \n",
    "  <p style=\"color:#D67218; text-align:center; font-size:20px;\"> products</p>\n",
    " \n",
    "</div>"
   ]
  },
  {
   "cell_type": "markdown",
   "id": "67421429",
   "metadata": {},
   "source": [
    "<div style=\"background-color:#92D050;  padding:10px; border-radius:5px;\">\n",
    "    \n",
    "  <p style=\"color:#EB2213; text-align:center; font-size:15px;\"> Cleaning </p>\n",
    " \n",
    "</div>"
   ]
  },
  {
   "cell_type": "code",
   "execution_count": null,
   "id": "4ac02f16",
   "metadata": {},
   "outputs": [],
   "source": [
    "products=products.dropna(subset=['product_category_name', 'product_name_lenght','product_description_lenght','product_photos_qty','product_weight_g'])"
   ]
  },
  {
   "cell_type": "code",
   "execution_count": null,
   "id": "1b6288da",
   "metadata": {},
   "outputs": [
    {
     "name": "stdout",
     "output_type": "stream",
     "text": [
      "<class 'pandas.core.frame.DataFrame'>\n",
      "Index: 32340 entries, 0 to 32950\n",
      "Data columns (total 9 columns):\n",
      " #   Column                      Non-Null Count  Dtype  \n",
      "---  ------                      --------------  -----  \n",
      " 0   product_id                  32340 non-null  object \n",
      " 1   product_category_name       32340 non-null  object \n",
      " 2   product_name_lenght         32340 non-null  float64\n",
      " 3   product_description_lenght  32340 non-null  float64\n",
      " 4   product_photos_qty          32340 non-null  float64\n",
      " 5   product_weight_g            32340 non-null  float64\n",
      " 6   product_length_cm           32340 non-null  float64\n",
      " 7   product_height_cm           32340 non-null  float64\n",
      " 8   product_width_cm            32340 non-null  float64\n",
      "dtypes: float64(7), object(2)\n",
      "memory usage: 2.5+ MB\n"
     ]
    }
   ],
   "source": [
    "products.info()"
   ]
  },
  {
   "cell_type": "markdown",
   "id": "802a7801",
   "metadata": {},
   "source": [
    "<div style=\"background-color:#37B3B3;  padding:10px; border-radius:5px;\">\n",
    "    \n",
    "  <p style=\"color:#D67218; text-align:center; font-size:15px;\"> Save File </p>\n",
    " \n",
    "</div>"
   ]
  },
  {
   "cell_type": "code",
   "execution_count": null,
   "id": "22af45a3",
   "metadata": {},
   "outputs": [],
   "source": [
    "geo.to_csv(\"/Users/Ahmad/ecommerce_data_engineering/Clean_data/Geo_clean.csv\", index=False)"
   ]
  },
  {
   "cell_type": "code",
   "execution_count": null,
   "id": "8b22384a",
   "metadata": {},
   "outputs": [],
   "source": [
    "customers.to_csv(\"/Users/Ahmad/ecommerce_data_engineering/Clean_data/Customers_clean.csv\", index=False)"
   ]
  },
  {
   "cell_type": "code",
   "execution_count": null,
   "id": "1371dd52",
   "metadata": {},
   "outputs": [],
   "source": [
    "order_items.to_csv(\"/Users/Ahmad/ecommerce_data_engineering/Clean_data/Order_items_clean.csv\", index=False)"
   ]
  },
  {
   "cell_type": "code",
   "execution_count": null,
   "id": "db518fb3",
   "metadata": {},
   "outputs": [],
   "source": [
    "order_payments.to_csv(\"/Users/Ahmad/ecommerce_data_engineering/Clean_data/Order_payments_clean.csv\", index=False)"
   ]
  },
  {
   "cell_type": "code",
   "execution_count": null,
   "id": "14af8717",
   "metadata": {},
   "outputs": [],
   "source": [
    "order_reviews.to_csv(\"/Users/Ahmad/ecommerce_data_engineering/Clean_data/Order_reviews_clean.csv\", index=False)"
   ]
  },
  {
   "cell_type": "code",
   "execution_count": null,
   "id": "002a3902",
   "metadata": {},
   "outputs": [],
   "source": [
    "order_dataset.to_csv(\"/Users/Ahmad/ecommerce_data_engineering/Clean_data/Order_dataset_clean.csv\", index=False)"
   ]
  },
  {
   "cell_type": "code",
   "execution_count": null,
   "id": "748193bc",
   "metadata": {},
   "outputs": [],
   "source": [
    "products.to_csv(\"/Users/Ahmad/ecommerce_data_engineering/Clean_data/Products_clean.csv\", index=False)"
   ]
  },
  {
   "cell_type": "code",
   "execution_count": null,
   "id": "6fb5cda5",
   "metadata": {},
   "outputs": [],
   "source": [
    "sellers.to_csv(\"/Users/Ahmad/ecommerce_data_engineering/Clean_data/Sellers_clean.csv\", index=False)"
   ]
  },
  {
   "cell_type": "code",
   "execution_count": null,
   "id": "7609f6e3",
   "metadata": {},
   "outputs": [],
   "source": [
    "category_translation.to_csv(\"/Users/Ahmad/ecommerce_data_engineering/Clean_data/Category_translation_clean.csv\", index=False)"
   ]
  },
  {
   "cell_type": "markdown",
   "id": "3f4a75e0",
   "metadata": {},
   "source": [
    "<div style=\"background-color:#D96211;  padding:10px; border-radius:10px;\">\n",
    "    \n",
    "  <p style=\"color:#0CE307; text-align:center; font-size:20px;\"> Model Data </p>\n",
    " \n",
    "</div>"
   ]
  },
  {
   "cell_type": "code",
   "execution_count": null,
   "id": "eaee5cfe",
   "metadata": {},
   "outputs": [],
   "source": [
    "order1=pd.merge(order_items,order_payments[['order_id', 'payment_value']], on='order_id', how='left')"
   ]
  },
  {
   "cell_type": "code",
   "execution_count": null,
   "id": "b8909181",
   "metadata": {},
   "outputs": [],
   "source": [
    "order2=pd.merge(order1,order_reviews[['order_id','review_score']], on='order_id', how='left')"
   ]
  },
  {
   "cell_type": "code",
   "execution_count": null,
   "id": "ff10070b",
   "metadata": {},
   "outputs": [],
   "source": [
    "customer_dim=pd.merge(order_dataset, customers, on='customer_id', how='right')"
   ]
  },
  {
   "cell_type": "code",
   "execution_count": null,
   "id": "a9c4292b",
   "metadata": {},
   "outputs": [],
   "source": [
    "seller_dim=sellers"
   ]
  },
  {
   "cell_type": "code",
   "execution_count": null,
   "id": "98dd0e32",
   "metadata": {},
   "outputs": [],
   "source": [
    "order_fact=pd.merge(order2,customer_dim[['order_id','customer_id']], on='order_id', how='left')"
   ]
  },
  {
   "cell_type": "code",
   "execution_count": null,
   "id": "564db8b4",
   "metadata": {},
   "outputs": [
    {
     "name": "stdout",
     "output_type": "stream",
     "text": [
      "<class 'pandas.core.frame.DataFrame'>\n",
      "RangeIndex: 117098 entries, 0 to 117097\n",
      "Data columns (total 10 columns):\n",
      " #   Column               Non-Null Count   Dtype         \n",
      "---  ------               --------------   -----         \n",
      " 0   order_id             117098 non-null  object        \n",
      " 1   order_item_id        117098 non-null  int64         \n",
      " 2   product_id           117098 non-null  object        \n",
      " 3   seller_id            117098 non-null  object        \n",
      " 4   shipping_limit_date  117098 non-null  datetime64[ns]\n",
      " 5   price                117098 non-null  float64       \n",
      " 6   freight_value        117098 non-null  float64       \n",
      " 7   payment_value        117095 non-null  float64       \n",
      " 8   review_score         116135 non-null  float64       \n",
      " 9   customer_id          114489 non-null  object        \n",
      "dtypes: datetime64[ns](1), float64(4), int64(1), object(4)\n",
      "memory usage: 8.9+ MB\n"
     ]
    }
   ],
   "source": [
    "order_fact.info()"
   ]
  },
  {
   "cell_type": "code",
   "execution_count": null,
   "id": "fd090616",
   "metadata": {},
   "outputs": [],
   "source": [
    "product_dim=pd.merge(products,category_translation, on='product_category_name', how='inner')"
   ]
  },
  {
   "cell_type": "code",
   "execution_count": null,
   "id": "749230b5",
   "metadata": {},
   "outputs": [],
   "source": [
    "\n",
    "order_fact.to_csv(\"/Users/Ahmad/cleaning/order_fact.csv\", index=False)\n",
    "\n",
    "customer_dim.to_csv(\"/Users/Ahmad/cleaning/customer_dim.csv\", index=False)\n",
    "\n",
    "seller_dim.to_csv(\"/Users/Ahmad/cleaning/seller_dim.csv\", index=False)\n",
    "\n",
    "product_dim.to_csv(\"/Users/Ahmad/cleaning/product_dim.csv\", index=False)"
   ]
  },
  {
   "cell_type": "markdown",
   "id": "9dddad7f",
   "metadata": {},
   "source": [
    "<div style=\"background-color:#647CD6;  padding:10px; border-radius:10px;\">\n",
    "    \n",
    "  <p style=\"color:#0CE307; text-align:center; font-size:20px;\"> Validation </p>\n",
    " \n",
    "</div>"
   ]
  },
  {
   "cell_type": "code",
   "execution_count": null,
   "id": "4913b0a4",
   "metadata": {},
   "outputs": [],
   "source": [
    " assert order_fact[\"order_id\"].isin(order_items[\"order_id\"]).all()"
   ]
  },
  {
   "cell_type": "code",
   "execution_count": null,
   "id": "c4820e22",
   "metadata": {},
   "outputs": [],
   "source": [
    "missing_products = order_fact[~order_fact[\"product_id\"].isin(product_dim[\"product_id\"])]\n",
    "\n",
    "\n",
    "order_fact_filtered = order_fact[order_fact[\"product_id\"].isin(product_dim[\"product_id\"])]\n",
    "\n",
    "order_fact=order_fact_filtered"
   ]
  },
  {
   "cell_type": "code",
   "execution_count": null,
   "id": "2c6b61c3",
   "metadata": {},
   "outputs": [],
   "source": [
    " assert order_fact[\"product_id\"].isin(product_dim[\"product_id\"]).all()"
   ]
  },
  {
   "cell_type": "code",
   "execution_count": null,
   "id": "3b381cef",
   "metadata": {},
   "outputs": [],
   "source": [
    " assert order_fact[\"seller_id\"].isin(seller_dim[\"seller_id\"]).all()"
   ]
  },
  {
   "cell_type": "code",
   "execution_count": null,
   "id": "9a935def",
   "metadata": {},
   "outputs": [],
   "source": [
    "missing_customers = order_fact[~order_fact[\"order_id\"].isin(customer_dim[\"order_id\"])]\n",
    "#print(f\"Products missing from product_dim: {missing_products['product_id'].unique()}\")\n",
    "\n",
    "order_fact_filtered = order_fact[order_fact[\"order_id\"].isin(customer_dim[\"order_id\"])]\n",
    "\n",
    "order_fact=order_fact_filtered"
   ]
  },
  {
   "cell_type": "code",
   "execution_count": null,
   "id": "b30f17b3",
   "metadata": {},
   "outputs": [],
   "source": [
    " assert order_fact[\"order_id\"].isin(customer_dim[\"order_id\"]).all()"
   ]
  },
  {
   "cell_type": "code",
   "execution_count": null,
   "id": "6609d05c",
   "metadata": {},
   "outputs": [],
   "source": [
    "assert order_fact[\"customer_id\"].isin(customer_dim[\"customer_id\"]).all()"
   ]
  },
  {
   "cell_type": "markdown",
   "id": "2aad33a8",
   "metadata": {},
   "source": [
    "<div style=\"background-color:#56E496;  padding:10px; border-radius:10px;\">\n",
    "    \n",
    "  <p style=\"color:#D02E0E; text-align:center; font-size:15px;\"> Outlier Of Model </p>\n",
    " \n",
    "</div>"
   ]
  },
  {
   "cell_type": "code",
   "execution_count": null,
   "id": "0d36faf4",
   "metadata": {},
   "outputs": [
    {
     "name": "stdout",
     "output_type": "stream",
     "text": [
      "freight_valu_negative: freight_value\n",
      "False    112853\n",
      "Name: count, dtype: int64\n",
      "order_fact_null: order_id                 0\n",
      "order_item_id            0\n",
      "product_id               0\n",
      "seller_id                0\n",
      "shipping_limit_date      0\n",
      "price                    0\n",
      "freight_value            0\n",
      "payment_value            3\n",
      "review_score           834\n",
      "customer_id              0\n",
      "dtype: int64\n",
      "order_fact_dupli: 1032\n"
     ]
    }
   ],
   "source": [
    "print(\"freight_valu_negative:\", (order_fact['freight_value']<0).value_counts())\n",
    "print(\"order_fact_null:\", order_fact.isnull().sum())\n",
    "order_fact_dupli=order_fact[order_fact.duplicated()]\n",
    "print(\"order_fact_dupli:\",len(order_fact_dupli))"
   ]
  },
  {
   "cell_type": "code",
   "execution_count": null,
   "id": "01edf1d3",
   "metadata": {},
   "outputs": [
    {
     "name": "stdout",
     "output_type": "stream",
     "text": [
      "product_dim_null: product_id                       0\n",
      "product_category_name            0\n",
      "product_name_lenght              0\n",
      "product_description_lenght       0\n",
      "product_photos_qty               0\n",
      "product_weight_g                 0\n",
      "product_length_cm                0\n",
      "product_height_cm                0\n",
      "product_width_cm                 0\n",
      "product_category_name_english    0\n",
      "dtype: int64\n",
      "product_dim_dupli: 0\n"
     ]
    }
   ],
   "source": [
    "print(\"product_dim_null:\", product_dim.isnull().sum())\n",
    "product_dim_dupli=product_dim[product_dim.duplicated]\n",
    "print(\"product_dim_dupli:\", product_dim_dupli.value_counts().sum())"
   ]
  },
  {
   "cell_type": "code",
   "execution_count": null,
   "id": "09acadb9",
   "metadata": {},
   "outputs": [
    {
     "name": "stdout",
     "output_type": "stream",
     "text": [
      "seller_dim_null: seller_id                 0\n",
      "seller_zip_code_prefix    0\n",
      "seller_city               0\n",
      "seller_state              0\n",
      "dtype: int64\n",
      "seller_dim_dupli: 0\n"
     ]
    }
   ],
   "source": [
    "print(\"seller_dim_null:\", seller_dim.isnull().sum())\n",
    "seller_dim_dupli=seller_dim[seller_dim.duplicated]\n",
    "print(\"seller_dim_dupli:\",seller_dim_dupli.value_counts().sum())"
   ]
  },
  {
   "cell_type": "code",
   "execution_count": null,
   "id": "b08ece48",
   "metadata": {},
   "outputs": [
    {
     "name": "stdout",
     "output_type": "stream",
     "text": [
      "customer_dim_null: seller_id                 0\n",
      "seller_zip_code_prefix    0\n",
      "seller_city               0\n",
      "seller_state              0\n",
      "dtype: int64\n",
      "0\n"
     ]
    }
   ],
   "source": [
    "print(\"customer_dim_null:\", seller_dim.isnull().sum())\n",
    "customer_dim_dupli=customer_dim[customer_dim.duplicated]\n",
    "print(customer_dim_dupli.value_counts().sum())"
   ]
  }
 ],
 "metadata": {
  "language_info": {
   "name": "python"
  }
 },
 "nbformat": 4,
 "nbformat_minor": 5
}
