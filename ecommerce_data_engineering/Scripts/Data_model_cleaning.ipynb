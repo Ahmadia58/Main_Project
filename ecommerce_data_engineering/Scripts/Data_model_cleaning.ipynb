{
 "cells": [
  {
   "cell_type": "markdown",
   "id": "c3dde38d",
   "metadata": {},
   "source": [
    "<div style=\"background-color:#4EA72E;  padding:5px; border-radius:20px;\">\n",
    "    \n",
    "  <p style=\"color:#DC2512; text-align:center; font-size:30px;\"> Data_model of E-commerce Data Warehouse Project  </p>\n",
    " \n",
    "</div>"
   ]
  },
  {
   "cell_type": "markdown",
   "id": "4551b002",
   "metadata": {},
   "source": [
    "<div style=\"background-color:#17DCD7;  padding:10px; border-radius:10px;\">\n",
    "    \n",
    "  <p style=\"color:#D67218; text-align:center; font-size:20px;\"> Import Library  </p>\n",
    " \n",
    "</div>"
   ]
  },
  {
   "cell_type": "code",
   "execution_count": null,
   "id": "6418c2a1",
   "metadata": {},
   "outputs": [],
   "source": [
    "import numpy as np\n",
    "import pandas as pd\n",
    "import matplotlib.pyplot as plt\n",
    "import seaborn as sns\n"
   ]
  },
  {
   "cell_type": "markdown",
   "id": "c4f0c716",
   "metadata": {},
   "source": [
    "<div style=\"background-color:#17DCD7;  padding:10px; border-radius:10px;\">\n",
    "    \n",
    "  <p style=\"color:#D67218; text-align:center; font-size:20px;\"> Insert Data  </p>\n",
    " \n",
    "</div>"
   ]
  },
  {
   "cell_type": "code",
   "execution_count": null,
   "id": "5a9a1223",
   "metadata": {},
   "outputs": [],
   "source": [
    "customers=pd.read_csv('E:/Data Analysis/Projct3/Main_project/ecommerce_data_engineering/Raw_data/olist_customers_dataset.csv')\n",
    "\n",
    "geo=pd.read_csv('E:/Data Analysis/Projct3/Main_project/ecommerce_data_engineering/Raw_data/olist_geolocation_dataset.csv')\n",
    "order_items=pd.read_csv('E:/Data Analysis/Projct3/Main_project/ecommerce_data_engineering/Raw_data/olist_order_items_dataset.csv')\n",
    "order_payments=pd.read_csv('E:/Data Analysis/Projct3/Main_project/ecommerce_data_engineering/Raw_data/olist_order_payments_dataset.csv')\n",
    "order_reviews=pd.read_csv('E:/Data Analysis/Projct3/Main_project/ecommerce_data_engineering/Raw_data/olist_order_reviews_dataset.csv')\n",
    "order_dataset=pd.read_csv('E:/Data Analysis/Projct3/Main_project/ecommerce_data_engineering/Raw_data/olist_orders_dataset.csv')\n",
    "products=pd.read_csv('E:/Data Analysis/Projct3/Main_project/ecommerce_data_engineering/Raw_data/olist_products_dataset.csv')\n",
    "sellers=pd.read_csv('E:/Data Analysis/Projct3/Main_project/ecommerce_data_engineering/Raw_data/olist_sellers_dataset.csv')\n",
    "category_translation=pd.read_csv('E:/Data Analysis/Projct3/Main_project/ecommerce_data_engineering/Raw_data/product_category_name_translation.csv')\n"
   ]
  },
  {
   "cell_type": "code",
   "execution_count": null,
   "id": "64c4749a",
   "metadata": {},
   "outputs": [],
   "source": []
  },
  {
   "cell_type": "markdown",
   "id": "76e8b44b",
   "metadata": {},
   "source": [
    "<div style=\"background-color:#17DCD7;  padding:10px; border-radius:10px;\">\n",
    "    \n",
    "  <p style=\"color:#D67218; text-align:center; font-size:20px;\"> Customers </p>\n",
    " \n",
    "</div>"
   ]
  },
  {
   "cell_type": "markdown",
   "id": "626ec960",
   "metadata": {},
   "source": [
    "<div style=\"background-color:#17DCD7;  padding:10px; border-radius:10px;\">\n",
    "    \n",
    "  <p style=\"color:#D67218; text-align:center; font-size:20px;\"> order_items </p>\n",
    " \n",
    "</div>"
   ]
  },
  {
   "cell_type": "markdown",
   "id": "f723f94d",
   "metadata": {},
   "source": [
    "<div style=\"background-color:#92D050;  padding:10px; border-radius:5px;\">\n",
    "    \n",
    "  <p style=\"color:#EB2213; text-align:center; font-size:15px;\"> Cleaning </p>\n",
    " \n",
    "</div>"
   ]
  },
  {
   "cell_type": "code",
   "execution_count": null,
   "id": "b3426442",
   "metadata": {},
   "outputs": [],
   "source": [
    "\n",
    "filtered_df = order_items[order_items['freight_value']>=Q99]\n",
    "order_items = order_items.drop(index=filtered_df.index)\n",
    "order_items['shipping_limit_date']=pd.to_datetime(order_items['shipping_limit_date'])\n"
   ]
  },
  {
   "cell_type": "markdown",
   "id": "f1a58805",
   "metadata": {},
   "source": [
    "<div style=\"background-color:#17DCD7;  padding:10px; border-radius:10px;\">\n",
    "    \n",
    "  <p style=\"color:#D67218; text-align:center; font-size:20px;\"> order_payments</p>\n",
    " \n",
    "</div>"
   ]
  },
  {
   "cell_type": "markdown",
   "id": "7c2cd3d7",
   "metadata": {},
   "source": [
    "<div style=\"background-color:#17DCD7;  padding:10px; border-radius:10px;\">\n",
    "    \n",
    "  <p style=\"color:#D67218; text-align:center; font-size:20px;\"> order_reviews</p>\n",
    " \n",
    "</div>"
   ]
  },
  {
   "cell_type": "markdown",
   "id": "623fe897",
   "metadata": {},
   "source": [
    "<div style=\"background-color:#92D050;  padding:10px; border-radius:5px;\">\n",
    "    \n",
    "  <p style=\"color:#EB2213; text-align:center; font-size:15px;\"> Cleaning </p>\n",
    " \n",
    "</div>"
   ]
  },
  {
   "cell_type": "code",
   "execution_count": null,
   "id": "2fbf7400",
   "metadata": {},
   "outputs": [],
   "source": [
    "order_reviews['review_comment_title']=order_reviews['review_comment_title'].fillna('NoTitle')\n",
    "order_reviews['review_comment_message']=order_reviews['review_comment_message'].fillna('Nomessage')"
   ]
  },
  {
   "cell_type": "markdown",
   "id": "69c036e4",
   "metadata": {},
   "source": [
    "<div style=\"background-color:#17DCD7;  padding:10px; border-radius:10px;\">\n",
    "    \n",
    "  <p style=\"color:#D67218; text-align:center; font-size:20px;\"> order_dataset</p>\n",
    " \n",
    "</div>"
   ]
  },
  {
   "cell_type": "code",
   "execution_count": null,
   "id": "07ec7fb7",
   "metadata": {},
   "outputs": [],
   "source": [
    "order_dataset['order_purchase_timestamp']=pd.to_datetime(order_dataset['order_purchase_timestamp'])\n",
    "order_dataset['order_approved_at']=pd.to_datetime(order_dataset['order_approved_at'])\n",
    "order_dataset['order_delivered_carrier_date']=pd.to_datetime(order_dataset['order_delivered_carrier_date'])\n",
    "order_dataset['order_delivered_customer_date']=pd.to_datetime(order_dataset['order_delivered_customer_date'])\n",
    "order_dataset['order_estimated_delivery_date']=pd.to_datetime(order_dataset['order_estimated_delivery_date'])"
   ]
  },
  {
   "cell_type": "code",
   "execution_count": null,
   "id": "11581acc",
   "metadata": {},
   "outputs": [],
   "source": [
    "\n",
    "filtered_order_dataset = order_dataset[order_dataset['order_delivered_carrier_date']>order_dataset['order_delivered_customer_date']]\n",
    "order_dataset = order_dataset.drop(index=filtered_order_dataset.index)\n"
   ]
  },
  {
   "cell_type": "code",
   "execution_count": null,
   "id": "9175d791",
   "metadata": {},
   "outputs": [],
   "source": [
    "order_dataset=order_dataset.dropna(subset=['order_approved_at','order_delivered_carrier_date','order_delivered_customer_date'])"
   ]
  },
  {
   "cell_type": "markdown",
   "id": "bfcc92e4",
   "metadata": {},
   "source": [
    "<div style=\"background-color:#17DCD7;  padding:10px; border-radius:10px;\">\n",
    "    \n",
    "  <p style=\"color:#D67218; text-align:center; font-size:20px;\"> products</p>\n",
    " \n",
    "</div>"
   ]
  },
  {
   "cell_type": "markdown",
   "id": "56ae0cc7",
   "metadata": {},
   "source": [
    "<div style=\"background-color:#92D050;  padding:10px; border-radius:5px;\">\n",
    "    \n",
    "  <p style=\"color:#EB2213; text-align:center; font-size:15px;\"> Cleaning </p>\n",
    " \n",
    "</div>"
   ]
  },
  {
   "cell_type": "code",
   "execution_count": null,
   "id": "8aa664be",
   "metadata": {},
   "outputs": [],
   "source": [
    "products=products.dropna(subset=['product_category_name', 'product_name_lenght','product_description_lenght','product_photos_qty','product_weight_g'])"
   ]
  },
  {
   "cell_type": "markdown",
   "id": "df59e3b6",
   "metadata": {},
   "source": [
    "<div style=\"background-color:#17DCD7;  padding:10px; border-radius:10px;\">\n",
    "    \n",
    "  <p style=\"color:#D67218; text-align:center; font-size:20px;\"> sellers</p>\n",
    " \n",
    "</div>"
   ]
  },
  {
   "cell_type": "markdown",
   "id": "4d900279",
   "metadata": {},
   "source": [
    "<div style=\"background-color:#17DCD7;  padding:10px; border-radius:10px;\">\n",
    "    \n",
    "  <p style=\"color:#D67218; text-align:center; font-size:20px;\"> category_translation</p>\n",
    " \n",
    "</div>"
   ]
  },
  {
   "cell_type": "markdown",
   "id": "65785248",
   "metadata": {},
   "source": [
    "<div style=\"background-color:#D96211;  padding:10px; border-radius:10px;\">\n",
    "    \n",
    "  <p style=\"color:#0CE307; text-align:center; font-size:20px;\"> Model Data </p>\n",
    " \n",
    "</div>"
   ]
  },
  {
   "cell_type": "code",
   "execution_count": null,
   "id": "9056c9f1",
   "metadata": {},
   "outputs": [],
   "source": [
    "order1=pd.merge(order_items,order_payments[['order_id', 'payment_value']], on='order_id', how='left')"
   ]
  },
  {
   "cell_type": "code",
   "execution_count": null,
   "id": "4bbbae1e",
   "metadata": {},
   "outputs": [],
   "source": [
    "order2=pd.merge(order1,order_reviews[['order_id','review_score']], on='order_id', how='left')"
   ]
  },
  {
   "cell_type": "code",
   "execution_count": null,
   "id": "3b321331",
   "metadata": {},
   "outputs": [],
   "source": [
    "customer_dim=pd.merge(order_dataset, customers, on='customer_id', how='right')"
   ]
  },
  {
   "cell_type": "code",
   "execution_count": null,
   "id": "66a9ef25",
   "metadata": {},
   "outputs": [],
   "source": [
    "seller_dim=sellers"
   ]
  },
  {
   "cell_type": "code",
   "execution_count": null,
   "id": "b0d14769",
   "metadata": {},
   "outputs": [],
   "source": [
    "order_fact=pd.merge(order2,customer_dim[['order_id','customer_id']], on='order_id', how='left')"
   ]
  },
  {
   "cell_type": "code",
   "execution_count": null,
   "id": "d2985482",
   "metadata": {},
   "outputs": [],
   "source": [
    "product_dim=pd.merge(products,category_translation, on='product_category_name', how='inner')"
   ]
  },
  {
   "cell_type": "code",
   "execution_count": null,
   "id": "32bca187",
   "metadata": {},
   "outputs": [],
   "source": [
    "\n",
    "order_fact.to_csv(\"/Users/Ahmad/cleaning/order_fact.csv\", index=False)\n",
    "\n",
    "customer_dim.to_csv(\"/Users/Ahmad/cleaning/customer_dim.csv\", index=False)\n",
    "\n",
    "seller_dim.to_csv(\"/Users/Ahmad/cleaning/seller_dim.csv\", index=False)\n",
    "\n",
    "product_dim.to_csv(\"/Users/Ahmad/cleaning/product_dim.csv\", index=False)"
   ]
  },
  {
   "cell_type": "markdown",
   "id": "9eacfa08",
   "metadata": {},
   "source": [
    "<div style=\"background-color:#647CD6;  padding:10px; border-radius:10px;\">\n",
    "    \n",
    "  <p style=\"color:#0CE307; text-align:center; font-size:20px;\"> Validation </p>\n",
    " \n",
    "</div>"
   ]
  },
  {
   "cell_type": "code",
   "execution_count": null,
   "id": "2959e9f2",
   "metadata": {},
   "outputs": [],
   "source": [
    " assert order_fact[\"order_id\"].isin(order_items[\"order_id\"]).all()"
   ]
  },
  {
   "cell_type": "code",
   "execution_count": null,
   "id": "74d8e68c",
   "metadata": {},
   "outputs": [],
   "source": [
    "missing_products = order_fact[~order_fact[\"product_id\"].isin(product_dim[\"product_id\"])]\n",
    "\n",
    "\n",
    "order_fact_filtered = order_fact[order_fact[\"product_id\"].isin(product_dim[\"product_id\"])]\n",
    "\n",
    "order_fact=order_fact_filtered"
   ]
  },
  {
   "cell_type": "code",
   "execution_count": null,
   "id": "9d64bbf7",
   "metadata": {},
   "outputs": [],
   "source": [
    " assert order_fact[\"product_id\"].isin(product_dim[\"product_id\"]).all()"
   ]
  },
  {
   "cell_type": "code",
   "execution_count": null,
   "id": "81aafd79",
   "metadata": {},
   "outputs": [],
   "source": [
    " assert order_fact[\"seller_id\"].isin(seller_dim[\"seller_id\"]).all()"
   ]
  },
  {
   "cell_type": "code",
   "execution_count": null,
   "id": "a5ddedca",
   "metadata": {},
   "outputs": [],
   "source": [
    "missing_customers = order_fact[~order_fact[\"order_id\"].isin(customer_dim[\"order_id\"])]\n",
    "#print(f\"Products missing from product_dim: {missing_products['product_id'].unique()}\")\n",
    "\n",
    "order_fact_filtered = order_fact[order_fact[\"order_id\"].isin(customer_dim[\"order_id\"])]\n",
    "\n",
    "order_fact=order_fact_filtered"
   ]
  },
  {
   "cell_type": "code",
   "execution_count": null,
   "id": "a5af7bc1",
   "metadata": {},
   "outputs": [],
   "source": [
    " assert order_fact[\"order_id\"].isin(customer_dim[\"order_id\"]).all()"
   ]
  },
  {
   "cell_type": "code",
   "execution_count": null,
   "id": "e171458c",
   "metadata": {},
   "outputs": [],
   "source": [
    "assert order_fact[\"customer_id\"].isin(customer_dim[\"customer_id\"]).all()"
   ]
  },
  {
   "cell_type": "markdown",
   "id": "0c9f7dcd",
   "metadata": {},
   "source": [
    "<div style=\"background-color:#56E496;  padding:10px; border-radius:10px;\">\n",
    "    \n",
    "  <p style=\"color:#D02E0E; text-align:center; font-size:15px;\"> Outlier Of Model </p>\n",
    " \n",
    "</div>"
   ]
  },
  {
   "cell_type": "code",
   "execution_count": null,
   "id": "44f75b4c",
   "metadata": {},
   "outputs": [
    {
     "name": "stdout",
     "output_type": "stream",
     "text": [
      "freight_valu_negative: freight_value\n",
      "False    112853\n",
      "Name: count, dtype: int64\n",
      "order_fact_null: order_id                 0\n",
      "order_item_id            0\n",
      "product_id               0\n",
      "seller_id                0\n",
      "shipping_limit_date      0\n",
      "price                    0\n",
      "freight_value            0\n",
      "payment_value            3\n",
      "review_score           834\n",
      "customer_id              0\n",
      "dtype: int64\n",
      "order_fact_dupli: 1032\n"
     ]
    }
   ],
   "source": [
    "print(\"freight_valu_negative:\", (order_fact['freight_value']<0).value_counts())\n",
    "print(\"order_fact_null:\", order_fact.isnull().sum())\n",
    "order_fact_dupli=order_fact[order_fact.duplicated()]\n",
    "print(\"order_fact_dupli:\",len(order_fact_dupli))"
   ]
  },
  {
   "cell_type": "code",
   "execution_count": null,
   "id": "15a396ff",
   "metadata": {},
   "outputs": [
    {
     "name": "stdout",
     "output_type": "stream",
     "text": [
      "product_dim_null: product_id                       0\n",
      "product_category_name            0\n",
      "product_name_lenght              0\n",
      "product_description_lenght       0\n",
      "product_photos_qty               0\n",
      "product_weight_g                 0\n",
      "product_length_cm                0\n",
      "product_height_cm                0\n",
      "product_width_cm                 0\n",
      "product_category_name_english    0\n",
      "dtype: int64\n",
      "product_dim_dupli: 0\n"
     ]
    }
   ],
   "source": [
    "print(\"product_dim_null:\", product_dim.isnull().sum())\n",
    "product_dim_dupli=product_dim[product_dim.duplicated]\n",
    "print(\"product_dim_dupli:\", product_dim_dupli.value_counts().sum())"
   ]
  },
  {
   "cell_type": "code",
   "execution_count": null,
   "id": "b25e01c2",
   "metadata": {},
   "outputs": [
    {
     "name": "stdout",
     "output_type": "stream",
     "text": [
      "seller_dim_null: seller_id                 0\n",
      "seller_zip_code_prefix    0\n",
      "seller_city               0\n",
      "seller_state              0\n",
      "dtype: int64\n",
      "seller_dim_dupli: 0\n"
     ]
    }
   ],
   "source": [
    "print(\"seller_dim_null:\", seller_dim.isnull().sum())\n",
    "seller_dim_dupli=seller_dim[seller_dim.duplicated]\n",
    "print(\"seller_dim_dupli:\",seller_dim_dupli.value_counts().sum())"
   ]
  },
  {
   "cell_type": "code",
   "execution_count": null,
   "id": "d9629228",
   "metadata": {},
   "outputs": [
    {
     "name": "stdout",
     "output_type": "stream",
     "text": [
      "customer_dim_null: seller_id                 0\n",
      "seller_zip_code_prefix    0\n",
      "seller_city               0\n",
      "seller_state              0\n",
      "dtype: int64\n",
      "0\n"
     ]
    }
   ],
   "source": [
    "print(\"customer_dim_null:\", seller_dim.isnull().sum())\n",
    "customer_dim_dupli=customer_dim[customer_dim.duplicated]\n",
    "print(customer_dim_dupli.value_counts().sum())"
   ]
  },
  {
   "cell_type": "markdown",
   "id": "9d630d5b",
   "metadata": {},
   "source": [
    "<div style=\"background-color:#70371E;  padding:10px; border-radius:5px;\">\n",
    "    \n",
    "  <p style=\"color:#E8F545; text-align:center; font-size:15px;\"> Report </p>\n",
    " \n",
    "</div>"
   ]
  },
  {
   "cell_type": "code",
   "execution_count": null,
   "id": "4523daf0",
   "metadata": {},
   "outputs": [
    {
     "data": {
      "text/html": [
       "\n",
       "            <div>\n",
       "                <ins><a href=\"https://ydata.ai/register\">Upgrade to ydata-sdk</a></ins>\n",
       "                <p>\n",
       "                    Improve your data and profiling with ydata-sdk, featuring data quality scoring, redundancy detection, outlier identification, text validation, and synthetic data generation.\n",
       "                </p>\n",
       "            </div>\n",
       "            "
      ],
      "text/plain": [
       "<IPython.core.display.HTML object>"
      ]
     },
     "metadata": {},
     "output_type": "display_data"
    }
   ],
   "source": [
    "from ydata_profiling import ProfileReport"
   ]
  },
  {
   "cell_type": "code",
   "execution_count": null,
   "id": "2aaa1ae8",
   "metadata": {},
   "outputs": [
    {
     "data": {
      "application/vnd.jupyter.widget-view+json": {
       "model_id": "a6a49c0c775a4adc88230403f7af3020",
       "version_major": 2,
       "version_minor": 0
      },
      "text/plain": [
       "Summarize dataset:   0%|          | 0/5 [00:00<?, ?it/s]"
      ]
     },
     "metadata": {},
     "output_type": "display_data"
    },
    {
     "name": "stderr",
     "output_type": "stream",
     "text": [
      "\n",
      "  0%|                                                                                           | 0/10 [00:00<?, ?it/s]\u001b[A\n",
      "100%|██████████████████████████████████████████████████████████████████████████████████| 10/10 [00:04<00:00,  2.16it/s]\u001b[A\n"
     ]
    },
    {
     "data": {
      "application/vnd.jupyter.widget-view+json": {
       "model_id": "39561806baaa49f891e6ec72075f2f31",
       "version_major": 2,
       "version_minor": 0
      },
      "text/plain": [
       "Generate report structure:   0%|          | 0/1 [00:00<?, ?it/s]"
      ]
     },
     "metadata": {},
     "output_type": "display_data"
    },
    {
     "data": {
      "application/vnd.jupyter.widget-view+json": {
       "model_id": "11dadb03d65143919dbd00dd3c3d68f0",
       "version_major": 2,
       "version_minor": 0
      },
      "text/plain": [
       "Render HTML:   0%|          | 0/1 [00:00<?, ?it/s]"
      ]
     },
     "metadata": {},
     "output_type": "display_data"
    },
    {
     "data": {
      "application/vnd.jupyter.widget-view+json": {
       "model_id": "a2c5278e05b24e71a2c9c52d35f29e63",
       "version_major": 2,
       "version_minor": 0
      },
      "text/plain": [
       "Export report to file:   0%|          | 0/1 [00:00<?, ?it/s]"
      ]
     },
     "metadata": {},
     "output_type": "display_data"
    },
    {
     "data": {
      "application/vnd.jupyter.widget-view+json": {
       "model_id": "c127dfc577f04f208b3bba255e8bf3c9",
       "version_major": 2,
       "version_minor": 0
      },
      "text/plain": [
       "Summarize dataset:   0%|          | 0/5 [00:00<?, ?it/s]"
      ]
     },
     "metadata": {},
     "output_type": "display_data"
    },
    {
     "name": "stderr",
     "output_type": "stream",
     "text": [
      "\n",
      "  0%|                                                                                           | 0/10 [00:00<?, ?it/s]\u001b[A\n",
      "100%|██████████████████████████████████████████████████████████████████████████████████| 10/10 [00:00<00:00, 21.07it/s]\u001b[A\n"
     ]
    },
    {
     "data": {
      "application/vnd.jupyter.widget-view+json": {
       "model_id": "7f5fd772bbb64bf29505d4c026aa6eac",
       "version_major": 2,
       "version_minor": 0
      },
      "text/plain": [
       "Generate report structure:   0%|          | 0/1 [00:00<?, ?it/s]"
      ]
     },
     "metadata": {},
     "output_type": "display_data"
    },
    {
     "data": {
      "application/vnd.jupyter.widget-view+json": {
       "model_id": "b1062d8614104aef9d4b17f3b7e988be",
       "version_major": 2,
       "version_minor": 0
      },
      "text/plain": [
       "Render HTML:   0%|          | 0/1 [00:00<?, ?it/s]"
      ]
     },
     "metadata": {},
     "output_type": "display_data"
    },
    {
     "data": {
      "application/vnd.jupyter.widget-view+json": {
       "model_id": "02db22e5206c487ea9574d582f0a7eef",
       "version_major": 2,
       "version_minor": 0
      },
      "text/plain": [
       "Export report to file:   0%|          | 0/1 [00:00<?, ?it/s]"
      ]
     },
     "metadata": {},
     "output_type": "display_data"
    },
    {
     "data": {
      "application/vnd.jupyter.widget-view+json": {
       "model_id": "d7f1cbb89e2343d0b6bef07cdba0bd38",
       "version_major": 2,
       "version_minor": 0
      },
      "text/plain": [
       "Summarize dataset:   0%|          | 0/5 [00:00<?, ?it/s]"
      ]
     },
     "metadata": {},
     "output_type": "display_data"
    },
    {
     "name": "stderr",
     "output_type": "stream",
     "text": [
      "\n",
      "  0%|                                                                                           | 0/13 [00:00<?, ?it/s]\u001b[A\n",
      "  8%|██████▍                                                                            | 1/13 [00:05<01:03,  5.33s/it]\u001b[A\n",
      " 15%|████████████▊                                                                      | 2/13 [00:05<00:25,  2.33s/it]\u001b[A\n",
      "100%|██████████████████████████████████████████████████████████████████████████████████| 13/13 [00:05<00:00,  2.28it/s]\u001b[A\n"
     ]
    },
    {
     "data": {
      "application/vnd.jupyter.widget-view+json": {
       "model_id": "24551199722a4eb9ab392fc22e83907c",
       "version_major": 2,
       "version_minor": 0
      },
      "text/plain": [
       "Generate report structure:   0%|          | 0/1 [00:00<?, ?it/s]"
      ]
     },
     "metadata": {},
     "output_type": "display_data"
    },
    {
     "data": {
      "application/vnd.jupyter.widget-view+json": {
       "model_id": "26baad661b074101964fe698472ae9ac",
       "version_major": 2,
       "version_minor": 0
      },
      "text/plain": [
       "Render HTML:   0%|          | 0/1 [00:00<?, ?it/s]"
      ]
     },
     "metadata": {},
     "output_type": "display_data"
    },
    {
     "data": {
      "application/vnd.jupyter.widget-view+json": {
       "model_id": "796e40d0318541fcb813bb8043e03004",
       "version_major": 2,
       "version_minor": 0
      },
      "text/plain": [
       "Export report to file:   0%|          | 0/1 [00:00<?, ?it/s]"
      ]
     },
     "metadata": {},
     "output_type": "display_data"
    },
    {
     "data": {
      "application/vnd.jupyter.widget-view+json": {
       "model_id": "b5e83efe14674c07963d94acaa1a7f2b",
       "version_major": 2,
       "version_minor": 0
      },
      "text/plain": [
       "Summarize dataset:   0%|          | 0/5 [00:00<?, ?it/s]"
      ]
     },
     "metadata": {},
     "output_type": "display_data"
    },
    {
     "name": "stderr",
     "output_type": "stream",
     "text": [
      "\n",
      "100%|████████████████████████████████████████████████████████████████████████████████████| 4/4 [00:00<00:00, 44.06it/s]\u001b[A\n"
     ]
    },
    {
     "data": {
      "application/vnd.jupyter.widget-view+json": {
       "model_id": "feaaaf13c4a54bb1a64d08c19c6ae839",
       "version_major": 2,
       "version_minor": 0
      },
      "text/plain": [
       "Generate report structure:   0%|          | 0/1 [00:00<?, ?it/s]"
      ]
     },
     "metadata": {},
     "output_type": "display_data"
    },
    {
     "data": {
      "application/vnd.jupyter.widget-view+json": {
       "model_id": "0febbb0a2d5b40fd9a53530993dd95b3",
       "version_major": 2,
       "version_minor": 0
      },
      "text/plain": [
       "Render HTML:   0%|          | 0/1 [00:00<?, ?it/s]"
      ]
     },
     "metadata": {},
     "output_type": "display_data"
    },
    {
     "data": {
      "application/vnd.jupyter.widget-view+json": {
       "model_id": "097cb92b5bdc422fbd784c2ed9cbb730",
       "version_major": 2,
       "version_minor": 0
      },
      "text/plain": [
       "Export report to file:   0%|          | 0/1 [00:00<?, ?it/s]"
      ]
     },
     "metadata": {},
     "output_type": "display_data"
    }
   ],
   "source": [
    "profile_order=ProfileReport(order_fact, title=\"order_fact_report\")\n",
    "profile_order.to_file(\"/Users/Ahmad/ecommerce_data_engineering/Reports/order_fact_report.html\")\n",
    "profile_product=ProfileReport(product_dim, title=\"product_dim_report\")\n",
    "profile_product.to_file(\"/Users/Ahmad/ecommerce_data_engineering/Reports/product_dim_report.html\")\n",
    "profile_customer=ProfileReport(customer_dim, title=\"customer_dim_report\")\n",
    "profile_customer.to_file(\"/Users/Ahmad/ecommerce_data_engineering/Reports/customer_dim_report.html\")\n",
    "profile_seller=ProfileReport(seller_dim, title=\"seller_dim_report\")\n",
    "profile_seller.to_file(\"/Users/Ahmad/ecommerce_data_engineering/Reports/seller_dim_report.html\")"
   ]
  },
  {
   "cell_type": "markdown",
   "id": "d27371a4",
   "metadata": {},
   "source": [
    "<div style=\"background-color:#92D050;  padding:10px; border-radius:5px;\">\n",
    "    \n",
    "  <p style=\"color:#EB2213; text-align:center; font-size:15px;\"> Cleaning of Model </p>\n",
    " \n",
    "</div>"
   ]
  },
  {
   "cell_type": "code",
   "execution_count": null,
   "id": "d324e341",
   "metadata": {},
   "outputs": [],
   "source": [
    "order_fact=order_fact.drop_duplicates()\n",
    "order_fact=order_fact.dropna(subset=['review_score','payment_value'])\n",
    "order_fact['shipping_limit_date'] = order_fact['shipping_limit_date'].dt.date"
   ]
  },
  {
   "cell_type": "code",
   "execution_count": null,
   "id": "5dea72c3",
   "metadata": {},
   "outputs": [
    {
     "name": "stdout",
     "output_type": "stream",
     "text": [
      "order_id\n",
      "fedcd9f7ccdc8cba3a18defedd1a5547    34\n",
      "a3725dfe487d359b5be08cac48b64ec5    24\n",
      "895ab968e7bb0d5659d16cd74cd1650c    24\n",
      "465c2e1bee4561cb39e0db8c5993aafc    24\n",
      "c6492b842ac190db807c15aff21a7dd6    24\n",
      "                                    ..\n",
      "5b8e4e84a2e2822c4a1e704ef4b20f92     1\n",
      "5b8dcad724fe4568d2615017c056e69b     1\n",
      "5b8d793745f3ac9e033f77ff0f8ea88c     1\n",
      "5b8c60dba179499a7eba13bcd9131415     1\n",
      "fffe41c64501cc87c801fd61db3f6244     1\n",
      "Name: count, Length: 93503, dtype: int64\n"
     ]
    }
   ],
   "source": [
    "dupli=order_fact['order_id'].value_counts()\n",
    "print(dupli)"
   ]
  },
  {
   "cell_type": "code",
   "execution_count": null,
   "id": "f6cdd450",
   "metadata": {},
   "outputs": [],
   "source": [
    "order_fact=order_fact.drop_duplicates(subset=['order_id'])"
   ]
  },
  {
   "cell_type": "code",
   "execution_count": null,
   "id": "729ab2d7",
   "metadata": {},
   "outputs": [
    {
     "name": "stdout",
     "output_type": "stream",
     "text": [
      "<class 'pandas.core.frame.DataFrame'>\n",
      "Index: 93503 entries, 0 to 117097\n",
      "Data columns (total 10 columns):\n",
      " #   Column               Non-Null Count  Dtype  \n",
      "---  ------               --------------  -----  \n",
      " 0   order_id             93503 non-null  object \n",
      " 1   order_item_id        93503 non-null  int64  \n",
      " 2   product_id           93503 non-null  object \n",
      " 3   seller_id            93503 non-null  object \n",
      " 4   shipping_limit_date  93503 non-null  object \n",
      " 5   price                93503 non-null  float64\n",
      " 6   freight_value        93503 non-null  float64\n",
      " 7   payment_value        93503 non-null  float64\n",
      " 8   review_score         93503 non-null  float64\n",
      " 9   customer_id          93503 non-null  object \n",
      "dtypes: float64(4), int64(1), object(5)\n",
      "memory usage: 7.8+ MB\n"
     ]
    }
   ],
   "source": [
    "order_fact.info()"
   ]
  },
  {
   "cell_type": "code",
   "execution_count": null,
   "id": "42b56961",
   "metadata": {},
   "outputs": [],
   "source": [
    "customer_dim=customer_dim.dropna(subset=['order_id'])\n"
   ]
  },
  {
   "cell_type": "code",
   "execution_count": null,
   "id": "eef1bb5c",
   "metadata": {},
   "outputs": [
    {
     "name": "stdout",
     "output_type": "stream",
     "text": [
      "<class 'pandas.core.frame.DataFrame'>\n",
      "RangeIndex: 3095 entries, 0 to 3094\n",
      "Data columns (total 4 columns):\n",
      " #   Column                  Non-Null Count  Dtype \n",
      "---  ------                  --------------  ----- \n",
      " 0   seller_id               3095 non-null   object\n",
      " 1   seller_zip_code_prefix  3095 non-null   int64 \n",
      " 2   seller_city             3095 non-null   object\n",
      " 3   seller_state            3095 non-null   object\n",
      "dtypes: int64(1), object(3)\n",
      "memory usage: 96.8+ KB\n"
     ]
    }
   ],
   "source": [
    "seller_dim.info()"
   ]
  }
 ],
 "metadata": {
  "language_info": {
   "name": "python"
  }
 },
 "nbformat": 4,
 "nbformat_minor": 5
}
