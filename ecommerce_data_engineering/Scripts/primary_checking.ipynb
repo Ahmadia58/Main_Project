{
 "cells": [
  {
   "cell_type": "markdown",
   "id": "557400de",
   "metadata": {},
   "source": [
    "<div style=\"background-color:#4EA72E;  padding:5px; border-radius:20px;\">\n",
    "    \n",
    "  <p style=\"color:#DC2512; text-align:center; font-size:40px;\"> E-commerce Data Warehouse Project  </p>\n",
    " \n",
    "</div>"
   ]
  },
  {
   "cell_type": "markdown",
   "id": "3fcc99a1",
   "metadata": {},
   "source": [
    "<div style=\"background-color:#17DCD7;  padding:10px; border-radius:10px;\">\n",
    "    \n",
    "  <p style=\"color:#D67218; text-align:center; font-size:20px;\"> Import Library  </p>\n",
    " \n",
    "</div>"
   ]
  },
  {
   "cell_type": "code",
   "execution_count": null,
   "id": "81863412",
   "metadata": {},
   "outputs": [],
   "source": [
    "import numpy as np\n",
    "import pandas as pd\n",
    "import matplotlib.pyplot as plt\n",
    "import seaborn as sns\n"
   ]
  },
  {
   "cell_type": "markdown",
   "id": "f8184757",
   "metadata": {},
   "source": [
    "<div style=\"background-color:#17DCD7;  padding:10px; border-radius:10px;\">\n",
    "    \n",
    "  <p style=\"color:#D67218; text-align:center; font-size:20px;\"> Insert Data  </p>\n",
    " \n",
    "</div>"
   ]
  },
  {
   "cell_type": "code",
   "execution_count": null,
   "id": "d47ef8c2",
   "metadata": {},
   "outputs": [],
   "source": [
    "customers=pd.read_csv('E:/Data Analysis/Projct3/Main_project/ecommerce_data_engineering/Raw_data/olist_customers_dataset.csv')\n",
    "\n",
    "geo=pd.read_csv('E:/Data Analysis/Projct3/Main_project/ecommerce_data_engineering/Raw_data/olist_geolocation_dataset.csv')\n",
    "order_items=pd.read_csv('E:/Data Analysis/Projct3/Main_project/ecommerce_data_engineering/Raw_data/olist_order_items_dataset.csv')\n",
    "order_payments=pd.read_csv('E:/Data Analysis/Projct3/Main_project/ecommerce_data_engineering/Raw_data/olist_order_payments_dataset.csv')\n",
    "order_reviews=pd.read_csv('E:/Data Analysis/Projct3/Main_project/ecommerce_data_engineering/Raw_data/olist_order_reviews_dataset.csv')\n",
    "order_dataset=pd.read_csv('E:/Data Analysis/Projct3/Main_project/ecommerce_data_engineering/Raw_data/olist_orders_dataset.csv')\n",
    "products=pd.read_csv('E:/Data Analysis/Projct3/Main_project/ecommerce_data_engineering/Raw_data/olist_products_dataset.csv')\n",
    "sellers=pd.read_csv('E:/Data Analysis/Projct3/Main_project/ecommerce_data_engineering/Raw_data/olist_sellers_dataset.csv')\n",
    "category_translation=pd.read_csv('E:/Data Analysis/Projct3/Main_project/ecommerce_data_engineering/Raw_data/product_category_name_translation.csv')\n"
   ]
  },
  {
   "cell_type": "code",
   "execution_count": null,
   "id": "541e6b0f",
   "metadata": {},
   "outputs": [],
   "source": []
  },
  {
   "cell_type": "markdown",
   "id": "da83d90b",
   "metadata": {},
   "source": [
    "<div style=\"background-color:#17DCD7;  padding:10px; border-radius:10px;\">\n",
    "    \n",
    "  <p style=\"color:#D67218; text-align:center; font-size:20px;\"> Customers </p>\n",
    " \n",
    "</div>"
   ]
  },
  {
   "cell_type": "markdown",
   "id": "1cf09d88",
   "metadata": {},
   "source": [
    "<div style=\"background-color:#9DEBA8;  padding:10px; border-radius:5px;\">\n",
    "    \n",
    "  <p style=\"color:#D67218; text-align:center; font-size:15px;\"> Preliminary statistical analysis </p>\n",
    " \n",
    "</div>"
   ]
  },
  {
   "cell_type": "code",
   "execution_count": null,
   "id": "24756db9",
   "metadata": {},
   "outputs": [
    {
     "name": "stdout",
     "output_type": "stream",
     "text": [
      "<class 'pandas.core.frame.DataFrame'>\n",
      "RangeIndex: 99441 entries, 0 to 99440\n",
      "Data columns (total 5 columns):\n",
      " #   Column                    Non-Null Count  Dtype \n",
      "---  ------                    --------------  ----- \n",
      " 0   customer_id               99441 non-null  object\n",
      " 1   customer_unique_id        99441 non-null  object\n",
      " 2   customer_zip_code_prefix  99441 non-null  int64 \n",
      " 3   customer_city             99441 non-null  object\n",
      " 4   customer_state            99441 non-null  object\n",
      "dtypes: int64(1), object(4)\n",
      "memory usage: 3.8+ MB\n"
     ]
    }
   ],
   "source": [
    "customers.info()"
   ]
  },
  {
   "cell_type": "code",
   "execution_count": null,
   "id": "57a706d7",
   "metadata": {},
   "outputs": [
    {
     "data": {
      "text/plain": [
       "(99441, 5)"
      ]
     },
     "metadata": {},
     "output_type": "display_data"
    }
   ],
   "source": [
    "customers.shape"
   ]
  },
  {
   "cell_type": "code",
   "execution_count": null,
   "id": "b82413df",
   "metadata": {},
   "outputs": [
    {
     "data": {
      "text/html": [
       "<div>\n",
       "<style scoped>\n",
       "    .dataframe tbody tr th:only-of-type {\n",
       "        vertical-align: middle;\n",
       "    }\n",
       "\n",
       "    .dataframe tbody tr th {\n",
       "        vertical-align: top;\n",
       "    }\n",
       "\n",
       "    .dataframe thead th {\n",
       "        text-align: right;\n",
       "    }\n",
       "</style>\n",
       "<table border=\"1\" class=\"dataframe\">\n",
       "  <thead>\n",
       "    <tr style=\"text-align: right;\">\n",
       "      <th></th>\n",
       "      <th>customer_zip_code_prefix</th>\n",
       "    </tr>\n",
       "  </thead>\n",
       "  <tbody>\n",
       "    <tr>\n",
       "      <th>count</th>\n",
       "      <td>99441.000000</td>\n",
       "    </tr>\n",
       "    <tr>\n",
       "      <th>mean</th>\n",
       "      <td>35137.474583</td>\n",
       "    </tr>\n",
       "    <tr>\n",
       "      <th>std</th>\n",
       "      <td>29797.938996</td>\n",
       "    </tr>\n",
       "    <tr>\n",
       "      <th>min</th>\n",
       "      <td>1003.000000</td>\n",
       "    </tr>\n",
       "    <tr>\n",
       "      <th>25%</th>\n",
       "      <td>11347.000000</td>\n",
       "    </tr>\n",
       "    <tr>\n",
       "      <th>50%</th>\n",
       "      <td>24416.000000</td>\n",
       "    </tr>\n",
       "    <tr>\n",
       "      <th>75%</th>\n",
       "      <td>58900.000000</td>\n",
       "    </tr>\n",
       "    <tr>\n",
       "      <th>max</th>\n",
       "      <td>99990.000000</td>\n",
       "    </tr>\n",
       "  </tbody>\n",
       "</table>\n",
       "</div>"
      ],
      "text/plain": [
       "       customer_zip_code_prefix\n",
       "count              99441.000000\n",
       "mean               35137.474583\n",
       "std                29797.938996\n",
       "min                 1003.000000\n",
       "25%                11347.000000\n",
       "50%                24416.000000\n",
       "75%                58900.000000\n",
       "max                99990.000000"
      ]
     },
     "metadata": {},
     "output_type": "display_data"
    }
   ],
   "source": [
    "customers.describe()"
   ]
  },
  {
   "cell_type": "markdown",
   "id": "d2840eb2",
   "metadata": {},
   "source": [
    "<div style=\"background-color:#17DCD7;  padding:10px; border-radius:10px;\">\n",
    "    \n",
    "  <p style=\"color:#D67218; text-align:center; font-size:20px;\"> Geo </p>\n",
    " \n",
    "</div>"
   ]
  },
  {
   "cell_type": "markdown",
   "id": "0676528a",
   "metadata": {},
   "source": [
    "<div style=\"background-color:#9DEBA8;  padding:10px; border-radius:5px;\">\n",
    "    \n",
    "  <p style=\"color:#D67218; text-align:center; font-size:15px;\"> Preliminary statistical analysis </p>\n",
    " \n",
    "</div>"
   ]
  },
  {
   "cell_type": "code",
   "execution_count": null,
   "id": "e03a97ed",
   "metadata": {},
   "outputs": [
    {
     "name": "stdout",
     "output_type": "stream",
     "text": [
      "<class 'pandas.core.frame.DataFrame'>\n",
      "RangeIndex: 1000163 entries, 0 to 1000162\n",
      "Data columns (total 5 columns):\n",
      " #   Column                       Non-Null Count    Dtype  \n",
      "---  ------                       --------------    -----  \n",
      " 0   geolocation_zip_code_prefix  1000163 non-null  int64  \n",
      " 1   geolocation_lat              1000163 non-null  float64\n",
      " 2   geolocation_lng              1000163 non-null  float64\n",
      " 3   geolocation_city             1000163 non-null  object \n",
      " 4   geolocation_state            1000163 non-null  object \n",
      "dtypes: float64(2), int64(1), object(2)\n",
      "memory usage: 38.2+ MB\n"
     ]
    }
   ],
   "source": [
    "geo.info()"
   ]
  },
  {
   "cell_type": "code",
   "execution_count": null,
   "id": "a6e90a5c",
   "metadata": {},
   "outputs": [
    {
     "data": {
      "text/plain": [
       "(1000163, 5)"
      ]
     },
     "metadata": {},
     "output_type": "display_data"
    }
   ],
   "source": [
    "geo.shape"
   ]
  },
  {
   "cell_type": "markdown",
   "id": "bc520aca",
   "metadata": {},
   "source": [
    "<div style=\"background-color:#17DCD7;  padding:10px; border-radius:10px;\">\n",
    "    \n",
    "  <p style=\"color:#D67218; text-align:center; font-size:20px;\"> order_items </p>\n",
    " \n",
    "</div>"
   ]
  },
  {
   "cell_type": "markdown",
   "id": "f7450974",
   "metadata": {},
   "source": [
    "<div style=\"background-color:#9DEBA8;  padding:10px; border-radius:5px;\">\n",
    "    \n",
    "  <p style=\"color:#D67218; text-align:center; font-size:15px;\"> Preliminary statistical analysis </p>\n",
    " \n",
    "</div>"
   ]
  },
  {
   "cell_type": "code",
   "execution_count": null,
   "id": "a41b1ebc",
   "metadata": {},
   "outputs": [
    {
     "name": "stdout",
     "output_type": "stream",
     "text": [
      "<class 'pandas.core.frame.DataFrame'>\n",
      "RangeIndex: 112650 entries, 0 to 112649\n",
      "Data columns (total 7 columns):\n",
      " #   Column               Non-Null Count   Dtype  \n",
      "---  ------               --------------   -----  \n",
      " 0   order_id             112650 non-null  object \n",
      " 1   order_item_id        112650 non-null  int64  \n",
      " 2   product_id           112650 non-null  object \n",
      " 3   seller_id            112650 non-null  object \n",
      " 4   shipping_limit_date  112650 non-null  object \n",
      " 5   price                112650 non-null  float64\n",
      " 6   freight_value        112650 non-null  float64\n",
      "dtypes: float64(2), int64(1), object(4)\n",
      "memory usage: 6.0+ MB\n"
     ]
    }
   ],
   "source": [
    "order_items.info()"
   ]
  },
  {
   "cell_type": "code",
   "execution_count": null,
   "id": "8ea41e70",
   "metadata": {},
   "outputs": [
    {
     "data": {
      "text/plain": [
       "(112650, 7)"
      ]
     },
     "metadata": {},
     "output_type": "display_data"
    }
   ],
   "source": [
    "order_items.shape"
   ]
  },
  {
   "cell_type": "markdown",
   "id": "490e8941",
   "metadata": {},
   "source": [
    "<div style=\"background-color:#C00000;  padding:10px; border-radius:5px;\">\n",
    "    \n",
    "  <p style=\"color:#B8B8B8; text-align:center; font-size:15px;\"> Outlier </p>\n",
    " \n",
    "</div>"
   ]
  },
  {
   "cell_type": "code",
   "execution_count": null,
   "id": "34271ada",
   "metadata": {},
   "outputs": [
    {
     "data": {
      "text/html": [
       "<div>\n",
       "<style scoped>\n",
       "    .dataframe tbody tr th:only-of-type {\n",
       "        vertical-align: middle;\n",
       "    }\n",
       "\n",
       "    .dataframe tbody tr th {\n",
       "        vertical-align: top;\n",
       "    }\n",
       "\n",
       "    .dataframe thead th {\n",
       "        text-align: right;\n",
       "    }\n",
       "</style>\n",
       "<table border=\"1\" class=\"dataframe\">\n",
       "  <thead>\n",
       "    <tr style=\"text-align: right;\">\n",
       "      <th></th>\n",
       "      <th>order_item_id</th>\n",
       "      <th>price</th>\n",
       "      <th>freight_value</th>\n",
       "    </tr>\n",
       "  </thead>\n",
       "  <tbody>\n",
       "    <tr>\n",
       "      <th>count</th>\n",
       "      <td>112650.000000</td>\n",
       "      <td>112650.000000</td>\n",
       "      <td>112650.000000</td>\n",
       "    </tr>\n",
       "    <tr>\n",
       "      <th>mean</th>\n",
       "      <td>1.197834</td>\n",
       "      <td>120.653739</td>\n",
       "      <td>19.990320</td>\n",
       "    </tr>\n",
       "    <tr>\n",
       "      <th>std</th>\n",
       "      <td>0.705124</td>\n",
       "      <td>183.633928</td>\n",
       "      <td>15.806405</td>\n",
       "    </tr>\n",
       "    <tr>\n",
       "      <th>min</th>\n",
       "      <td>1.000000</td>\n",
       "      <td>0.850000</td>\n",
       "      <td>0.000000</td>\n",
       "    </tr>\n",
       "    <tr>\n",
       "      <th>25%</th>\n",
       "      <td>1.000000</td>\n",
       "      <td>39.900000</td>\n",
       "      <td>13.080000</td>\n",
       "    </tr>\n",
       "    <tr>\n",
       "      <th>50%</th>\n",
       "      <td>1.000000</td>\n",
       "      <td>74.990000</td>\n",
       "      <td>16.260000</td>\n",
       "    </tr>\n",
       "    <tr>\n",
       "      <th>75%</th>\n",
       "      <td>1.000000</td>\n",
       "      <td>134.900000</td>\n",
       "      <td>21.150000</td>\n",
       "    </tr>\n",
       "    <tr>\n",
       "      <th>max</th>\n",
       "      <td>21.000000</td>\n",
       "      <td>6735.000000</td>\n",
       "      <td>409.680000</td>\n",
       "    </tr>\n",
       "  </tbody>\n",
       "</table>\n",
       "</div>"
      ],
      "text/plain": [
       "       order_item_id          price  freight_value\n",
       "count  112650.000000  112650.000000  112650.000000\n",
       "mean        1.197834     120.653739      19.990320\n",
       "std         0.705124     183.633928      15.806405\n",
       "min         1.000000       0.850000       0.000000\n",
       "25%         1.000000      39.900000      13.080000\n",
       "50%         1.000000      74.990000      16.260000\n",
       "75%         1.000000     134.900000      21.150000\n",
       "max        21.000000    6735.000000     409.680000"
      ]
     },
     "metadata": {},
     "output_type": "display_data"
    }
   ],
   "source": [
    "order_items.describe()"
   ]
  },
  {
   "cell_type": "code",
   "execution_count": null,
   "id": "8e7a27f5",
   "metadata": {},
   "outputs": [
    {
     "data": {
      "text/plain": [
       "<Axes: >"
      ]
     },
     "metadata": {},
     "output_type": "display_data"
    },
    {
     "data": {
      "image/png": "[encoded data removed]",
      "text/plain": [
       "<Figure size 640x480 with 1 Axes>"
      ]
     },
     "metadata": {},
     "output_type": "display_data"
    }
   ],
   "source": [
    "order_items.boxplot(column='price')"
   ]
  },
  {
   "cell_type": "code",
   "execution_count": null,
   "id": "0ade0152",
   "metadata": {},
   "outputs": [
    {
     "data": {
      "text/plain": [
       "0"
      ]
     },
     "metadata": {},
     "output_type": "display_data"
    }
   ],
   "source": [
    "order_items[order_items['price']<0].value_counts().sum()"
   ]
  },
  {
   "cell_type": "code",
   "execution_count": null,
   "id": "e53e54f5",
   "metadata": {},
   "outputs": [
    {
     "name": "stdout",
     "output_type": "stream",
     "text": [
      "7         810.00\n",
      "16        639.00\n",
      "26        289.00\n",
      "30        397.00\n",
      "39        809.10\n",
      "           ...  \n",
      "112586    299.99\n",
      "112592    278.00\n",
      "112632    736.00\n",
      "112645    299.99\n",
      "112646    350.00\n",
      "Name: price, Length: 8427, dtype: float64\n",
      "outlier_price: 8427\n"
     ]
    }
   ],
   "source": [
    "Q1 = order_items['price'].quantile(0.25)\n",
    "Q3 = order_items['price'].quantile(0.75)\n",
    "IQR = Q3 - Q1\n",
    "lower_bound = Q1 - 1.5 * IQR\n",
    "upper_bound = Q3 + 1.5 * IQR\n",
    "outliers = order_items[(order_items['price'] < lower_bound) | (order_items['price'] > upper_bound)]\n",
    "print(outliers['price'])\n",
    "print(\"outlier_price:\",outliers['price'].value_counts().sum())"
   ]
  },
  {
   "cell_type": "code",
   "execution_count": null,
   "id": "60681883",
   "metadata": {},
   "outputs": [
    {
     "data": {
      "image/png": "[encoded data removed]",
      "text/plain": [
       "<Figure size 640x480 with 1 Axes>"
      ]
     },
     "metadata": {},
     "output_type": "display_data"
    }
   ],
   "source": [
    "order_items.boxplot(column='freight_value')\n",
    "plt.show()"
   ]
  },
  {
   "cell_type": "code",
   "execution_count": null,
   "id": "57ed1a28",
   "metadata": {},
   "outputs": [
    {
     "name": "stdout",
     "output_type": "stream",
     "text": [
      "7         70.75\n",
      "22        44.40\n",
      "39        44.29\n",
      "59        43.11\n",
      "73        65.56\n",
      "          ...  \n",
      "112641    34.19\n",
      "112642    34.19\n",
      "112643    34.19\n",
      "112645    43.41\n",
      "112646    36.53\n",
      "Name: freight_value, Length: 12134, dtype: float64\n",
      "outlier_freight_value: 12134\n"
     ]
    }
   ],
   "source": [
    "Q1 = order_items['freight_value'].quantile(0.25)\n",
    "Q3 = order_items['freight_value'].quantile(0.75)\n",
    "IQR = Q3 - Q1\n",
    "lower_bound = Q1 - 1.5 * IQR\n",
    "upper_bound = Q3 + 1.5 * IQR\n",
    "outliers = order_items[(order_items['freight_value'] < lower_bound) | (order_items['freight_value'] > upper_bound)]\n",
    "print(outliers['freight_value'])\n",
    "print(\"outlier_freight_value:\",outliers['freight_value'].value_counts().sum())"
   ]
  },
  {
   "cell_type": "code",
   "execution_count": null,
   "id": "d9ca9aa8",
   "metadata": {},
   "outputs": [
    {
     "name": "stdout",
     "output_type": "stream",
     "text": [
      "124        85.97\n",
      "162        87.28\n",
      "352        97.56\n",
      "456        98.13\n",
      "590        94.98\n",
      "           ...  \n",
      "112014     86.77\n",
      "112233    193.21\n",
      "112359    170.11\n",
      "112450     84.52\n",
      "112472    127.55\n",
      "Name: freight_value, Length: 1128, dtype: float64\n",
      "Q99: 84.52\n",
      "outlier_freight_value99: 1128\n",
      "0         13.29\n",
      "1         19.93\n",
      "2         17.87\n",
      "3         12.79\n",
      "4         18.14\n",
      "          ...  \n",
      "112645    43.41\n",
      "112646    36.53\n",
      "112647    16.95\n",
      "112648     8.72\n",
      "112649    12.79\n",
      "Name: freight_value, Length: 111522, dtype: float64\n"
     ]
    }
   ],
   "source": [
    "Q99 = order_items['freight_value'].quantile(.99)\n",
    "outliers = order_items[(order_items['freight_value'] >= Q99)]\n",
    "print(outliers['freight_value'])\n",
    "print(\"Q99:\",  Q99)\n",
    "print(\"outlier_freight_value99:\",outliers['freight_value'].value_counts().sum())\n",
    "order_items=order_items[order_items['freight_value']<Q99]\n",
    "print(order_items['freight_value'])"
   ]
  },
  {
   "cell_type": "code",
   "execution_count": null,
   "id": "b8447d17",
   "metadata": {},
   "outputs": [
    {
     "data": {
      "text/plain": [
       "0"
      ]
     },
     "metadata": {},
     "output_type": "display_data"
    }
   ],
   "source": [
    "order_items[order_items['freight_value']<0].value_counts().sum()"
   ]
  },
  {
   "cell_type": "markdown",
   "id": "94f35592",
   "metadata": {},
   "source": [
    "<div style=\"background-color:#17DCD7;  padding:10px; border-radius:10px;\">\n",
    "    \n",
    "  <p style=\"color:#D67218; text-align:center; font-size:20px;\"> order_payments</p>\n",
    " \n",
    "</div>"
   ]
  },
  {
   "cell_type": "markdown",
   "id": "ad5a854e",
   "metadata": {},
   "source": [
    "<div style=\"background-color:#9DEBA8;  padding:10px; border-radius:5px;\">\n",
    "    \n",
    "  <p style=\"color:#D67218; text-align:center; font-size:15px;\"> Preliminary statistical analysis </p>\n",
    " \n",
    "</div>"
   ]
  },
  {
   "cell_type": "code",
   "execution_count": null,
   "id": "a76d8376",
   "metadata": {},
   "outputs": [
    {
     "name": "stdout",
     "output_type": "stream",
     "text": [
      "<class 'pandas.core.frame.DataFrame'>\n",
      "RangeIndex: 103886 entries, 0 to 103885\n",
      "Data columns (total 5 columns):\n",
      " #   Column                Non-Null Count   Dtype  \n",
      "---  ------                --------------   -----  \n",
      " 0   order_id              103886 non-null  object \n",
      " 1   payment_sequential    103886 non-null  int64  \n",
      " 2   payment_type          103886 non-null  object \n",
      " 3   payment_installments  103886 non-null  int64  \n",
      " 4   payment_value         103886 non-null  float64\n",
      "dtypes: float64(1), int64(2), object(2)\n",
      "memory usage: 4.0+ MB\n"
     ]
    }
   ],
   "source": [
    "order_payments.info()"
   ]
  },
  {
   "cell_type": "code",
   "execution_count": null,
   "id": "ad70ce2f",
   "metadata": {},
   "outputs": [
    {
     "data": {
      "text/plain": [
       "(103886, 5)"
      ]
     },
     "metadata": {},
     "output_type": "display_data"
    }
   ],
   "source": [
    "order_payments.shape"
   ]
  },
  {
   "cell_type": "markdown",
   "id": "9b96c39b",
   "metadata": {},
   "source": [
    "<div style=\"background-color:#C00000;  padding:10px; border-radius:5px;\">\n",
    "    \n",
    "  <p style=\"color:#B8B8B8; text-align:center; font-size:15px;\"> Outlier </p>\n",
    " \n",
    "</div>"
   ]
  },
  {
   "cell_type": "code",
   "execution_count": null,
   "id": "d1a2080b",
   "metadata": {},
   "outputs": [
    {
     "data": {
      "text/html": [
       "<div>\n",
       "<style scoped>\n",
       "    .dataframe tbody tr th:only-of-type {\n",
       "        vertical-align: middle;\n",
       "    }\n",
       "\n",
       "    .dataframe tbody tr th {\n",
       "        vertical-align: top;\n",
       "    }\n",
       "\n",
       "    .dataframe thead th {\n",
       "        text-align: right;\n",
       "    }\n",
       "</style>\n",
       "<table border=\"1\" class=\"dataframe\">\n",
       "  <thead>\n",
       "    <tr style=\"text-align: right;\">\n",
       "      <th></th>\n",
       "      <th>payment_sequential</th>\n",
       "      <th>payment_installments</th>\n",
       "      <th>payment_value</th>\n",
       "    </tr>\n",
       "  </thead>\n",
       "  <tbody>\n",
       "    <tr>\n",
       "      <th>count</th>\n",
       "      <td>103886.000000</td>\n",
       "      <td>103886.000000</td>\n",
       "      <td>103886.000000</td>\n",
       "    </tr>\n",
       "    <tr>\n",
       "      <th>mean</th>\n",
       "      <td>1.092679</td>\n",
       "      <td>2.853349</td>\n",
       "      <td>154.100380</td>\n",
       "    </tr>\n",
       "    <tr>\n",
       "      <th>std</th>\n",
       "      <td>0.706584</td>\n",
       "      <td>2.687051</td>\n",
       "      <td>217.494064</td>\n",
       "    </tr>\n",
       "    <tr>\n",
       "      <th>min</th>\n",
       "      <td>1.000000</td>\n",
       "      <td>0.000000</td>\n",
       "      <td>0.000000</td>\n",
       "    </tr>\n",
       "    <tr>\n",
       "      <th>25%</th>\n",
       "      <td>1.000000</td>\n",
       "      <td>1.000000</td>\n",
       "      <td>56.790000</td>\n",
       "    </tr>\n",
       "    <tr>\n",
       "      <th>50%</th>\n",
       "      <td>1.000000</td>\n",
       "      <td>1.000000</td>\n",
       "      <td>100.000000</td>\n",
       "    </tr>\n",
       "    <tr>\n",
       "      <th>75%</th>\n",
       "      <td>1.000000</td>\n",
       "      <td>4.000000</td>\n",
       "      <td>171.837500</td>\n",
       "    </tr>\n",
       "    <tr>\n",
       "      <th>max</th>\n",
       "      <td>29.000000</td>\n",
       "      <td>24.000000</td>\n",
       "      <td>13664.080000</td>\n",
       "    </tr>\n",
       "  </tbody>\n",
       "</table>\n",
       "</div>"
      ],
      "text/plain": [
       "       payment_sequential  payment_installments  payment_value\n",
       "count       103886.000000         103886.000000  103886.000000\n",
       "mean             1.092679              2.853349     154.100380\n",
       "std              0.706584              2.687051     217.494064\n",
       "min              1.000000              0.000000       0.000000\n",
       "25%              1.000000              1.000000      56.790000\n",
       "50%              1.000000              1.000000     100.000000\n",
       "75%              1.000000              4.000000     171.837500\n",
       "max             29.000000             24.000000   13664.080000"
      ]
     },
     "metadata": {},
     "output_type": "display_data"
    }
   ],
   "source": [
    "order_payments.describe()"
   ]
  },
  {
   "cell_type": "code",
   "execution_count": null,
   "id": "56b4a0f2",
   "metadata": {},
   "outputs": [
    {
     "data": {
      "image/png": "[encoded data removed]",
      "text/plain": [
       "<Figure size 640x480 with 1 Axes>"
      ]
     },
     "metadata": {},
     "output_type": "display_data"
    }
   ],
   "source": [
    "order_payments.boxplot(column='payment_sequential')\n",
    "plt.show()"
   ]
  },
  {
   "cell_type": "code",
   "execution_count": null,
   "id": "e5a4a529",
   "metadata": {},
   "outputs": [
    {
     "data": {
      "image/png": "[encoded data removed]",
      "text/plain": [
       "<Figure size 640x480 with 1 Axes>"
      ]
     },
     "metadata": {},
     "output_type": "display_data"
    }
   ],
   "source": [
    "order_payments.boxplot(column='payment_installments')\n",
    "plt.show()"
   ]
  },
  {
   "cell_type": "code",
   "execution_count": null,
   "id": "9f74ab90",
   "metadata": {},
   "outputs": [
    {
     "data": {
      "image/png": "[encoded data removed]",
      "text/plain": [
       "<Figure size 640x480 with 1 Axes>"
      ]
     },
     "metadata": {},
     "output_type": "display_data"
    }
   ],
   "source": [
    "order_payments.boxplot(column='payment_value')\n",
    "plt.show()"
   ]
  },
  {
   "cell_type": "code",
   "execution_count": null,
   "id": "8b41eaab",
   "metadata": {},
   "outputs": [
    {
     "name": "stdout",
     "output_type": "stream",
     "text": [
      "23        353.09\n",
      "26        541.00\n",
      "52        542.66\n",
      "54        368.98\n",
      "61        387.80\n",
      "           ...  \n",
      "103814    713.65\n",
      "103843    372.08\n",
      "103861    356.53\n",
      "103881    363.31\n",
      "103884    369.54\n",
      "Name: payment_value, Length: 8143, dtype: float64\n",
      "outlier_payment_value: 8143\n"
     ]
    }
   ],
   "source": [
    "Q1=order_payments['payment_value'].quantile(.25)\n",
    "Q3=order_payments['payment_value'].quantile(.75)\n",
    "IQR=Q3-Q1\n",
    "lower_Bound=Q1-1.5*IQR\n",
    "upper_bound=Q3+1.5*IQR\n",
    "outlier=order_payments[(order_payments['payment_value']<lower_bound )| (order_payments['payment_value']>upper_bound)]\n",
    "print(outlier['payment_value'])\n",
    "print(\"outlier_payment_value:\", outlier['payment_value'].value_counts().sum())"
   ]
  },
  {
   "cell_type": "code",
   "execution_count": null,
   "id": "6aadf091",
   "metadata": {},
   "outputs": [
    {
     "name": "stdout",
     "output_type": "stream",
     "text": [
      "0         False\n",
      "1         False\n",
      "2         False\n",
      "3         False\n",
      "4         False\n",
      "          ...  \n",
      "103881    False\n",
      "103882     True\n",
      "103883     True\n",
      "103884     True\n",
      "103885     True\n",
      "Name: payment_value, Length: 103886, dtype: bool\n",
      "payment_value_duplicated: 103886\n"
     ]
    }
   ],
   "source": [
    "print(order_payments['payment_value'].duplicated())\n",
    "print(\"payment_value_duplicated:\", order_payments['payment_value'].duplicated().value_counts().sum())"
   ]
  },
  {
   "cell_type": "code",
   "execution_count": null,
   "id": "543cb5ca",
   "metadata": {},
   "outputs": [
    {
     "name": "stdout",
     "output_type": "stream",
     "text": [
      "0\n"
     ]
    }
   ],
   "source": [
    "print(order_payments[order_payments['payment_value']<0].value_counts().sum())"
   ]
  },
  {
   "cell_type": "code",
   "execution_count": null,
   "id": "34a32815",
   "metadata": {},
   "outputs": [
    {
     "name": "stdout",
     "output_type": "stream",
     "text": [
      "Duplicated: Empty DataFrame\n",
      "Columns: [order_id, payment_sequential, payment_type, payment_installments, payment_value]\n",
      "Index: []\n"
     ]
    }
   ],
   "source": [
    "Duplicated=order_payments[order_payments.duplicated()]\n",
    "print(\"Duplicated:\", Duplicated)"
   ]
  },
  {
   "cell_type": "markdown",
   "id": "def27a41",
   "metadata": {},
   "source": [
    "<div style=\"background-color:#17DCD7;  padding:10px; border-radius:10px;\">\n",
    "    \n",
    "  <p style=\"color:#D67218; text-align:center; font-size:20px;\"> order_reviews</p>\n",
    " \n",
    "</div>"
   ]
  },
  {
   "cell_type": "markdown",
   "id": "61aad4e7",
   "metadata": {},
   "source": [
    "<div style=\"background-color:#9DEBA8;  padding:10px; border-radius:5px;\">\n",
    "    \n",
    "  <p style=\"color:#D67218; text-align:center; font-size:20px;\"> Preliminary statistical analysis </p>\n",
    " \n",
    "</div>"
   ]
  },
  {
   "cell_type": "code",
   "execution_count": null,
   "id": "492ac8bb",
   "metadata": {},
   "outputs": [
    {
     "name": "stdout",
     "output_type": "stream",
     "text": [
      "<class 'pandas.core.frame.DataFrame'>\n",
      "RangeIndex: 99224 entries, 0 to 99223\n",
      "Data columns (total 7 columns):\n",
      " #   Column                   Non-Null Count  Dtype \n",
      "---  ------                   --------------  ----- \n",
      " 0   review_id                99224 non-null  object\n",
      " 1   order_id                 99224 non-null  object\n",
      " 2   review_score             99224 non-null  int64 \n",
      " 3   review_comment_title     11568 non-null  object\n",
      " 4   review_comment_message   40977 non-null  object\n",
      " 5   review_creation_date     99224 non-null  object\n",
      " 6   review_answer_timestamp  99224 non-null  object\n",
      "dtypes: int64(1), object(6)\n",
      "memory usage: 5.3+ MB\n"
     ]
    }
   ],
   "source": [
    "order_reviews.info()"
   ]
  },
  {
   "cell_type": "code",
   "execution_count": null,
   "id": "de903b6c",
   "metadata": {},
   "outputs": [
    {
     "data": {
      "text/plain": [
       "(99224, 7)"
      ]
     },
     "metadata": {},
     "output_type": "display_data"
    }
   ],
   "source": [
    "order_reviews.shape"
   ]
  },
  {
   "cell_type": "markdown",
   "id": "d9f6eb7f",
   "metadata": {},
   "source": [
    "<div style=\"background-color:#CD7125;  padding:10px; border-radius:5px;\">\n",
    "    \n",
    "  <p style=\"color:#D2DB17; text-align:center; font-size:15px;\"> Nullity </p>\n",
    " \n",
    "</div>"
   ]
  },
  {
   "cell_type": "code",
   "execution_count": null,
   "id": "9415db13",
   "metadata": {},
   "outputs": [
    {
     "data": {
      "text/html": [
       "<div>\n",
       "<style scoped>\n",
       "    .dataframe tbody tr th:only-of-type {\n",
       "        vertical-align: middle;\n",
       "    }\n",
       "\n",
       "    .dataframe tbody tr th {\n",
       "        vertical-align: top;\n",
       "    }\n",
       "\n",
       "    .dataframe thead th {\n",
       "        text-align: right;\n",
       "    }\n",
       "</style>\n",
       "<table border=\"1\" class=\"dataframe\">\n",
       "  <thead>\n",
       "    <tr style=\"text-align: right;\">\n",
       "      <th></th>\n",
       "      <th>review_id</th>\n",
       "      <th>order_id</th>\n",
       "      <th>review_score</th>\n",
       "      <th>review_comment_title</th>\n",
       "      <th>review_comment_message</th>\n",
       "      <th>review_creation_date</th>\n",
       "      <th>review_answer_timestamp</th>\n",
       "    </tr>\n",
       "  </thead>\n",
       "  <tbody>\n",
       "    <tr>\n",
       "      <th>0</th>\n",
       "      <td>False</td>\n",
       "      <td>False</td>\n",
       "      <td>False</td>\n",
       "      <td>True</td>\n",
       "      <td>True</td>\n",
       "      <td>False</td>\n",
       "      <td>False</td>\n",
       "    </tr>\n",
       "    <tr>\n",
       "      <th>1</th>\n",
       "      <td>False</td>\n",
       "      <td>False</td>\n",
       "      <td>False</td>\n",
       "      <td>True</td>\n",
       "      <td>True</td>\n",
       "      <td>False</td>\n",
       "      <td>False</td>\n",
       "    </tr>\n",
       "    <tr>\n",
       "      <th>2</th>\n",
       "      <td>False</td>\n",
       "      <td>False</td>\n",
       "      <td>False</td>\n",
       "      <td>True</td>\n",
       "      <td>True</td>\n",
       "      <td>False</td>\n",
       "      <td>False</td>\n",
       "    </tr>\n",
       "    <tr>\n",
       "      <th>3</th>\n",
       "      <td>False</td>\n",
       "      <td>False</td>\n",
       "      <td>False</td>\n",
       "      <td>True</td>\n",
       "      <td>False</td>\n",
       "      <td>False</td>\n",
       "      <td>False</td>\n",
       "    </tr>\n",
       "    <tr>\n",
       "      <th>4</th>\n",
       "      <td>False</td>\n",
       "      <td>False</td>\n",
       "      <td>False</td>\n",
       "      <td>True</td>\n",
       "      <td>False</td>\n",
       "      <td>False</td>\n",
       "      <td>False</td>\n",
       "    </tr>\n",
       "    <tr>\n",
       "      <th>...</th>\n",
       "      <td>...</td>\n",
       "      <td>...</td>\n",
       "      <td>...</td>\n",
       "      <td>...</td>\n",
       "      <td>...</td>\n",
       "      <td>...</td>\n",
       "      <td>...</td>\n",
       "    </tr>\n",
       "    <tr>\n",
       "      <th>99219</th>\n",
       "      <td>False</td>\n",
       "      <td>False</td>\n",
       "      <td>False</td>\n",
       "      <td>True</td>\n",
       "      <td>True</td>\n",
       "      <td>False</td>\n",
       "      <td>False</td>\n",
       "    </tr>\n",
       "    <tr>\n",
       "      <th>99220</th>\n",
       "      <td>False</td>\n",
       "      <td>False</td>\n",
       "      <td>False</td>\n",
       "      <td>True</td>\n",
       "      <td>True</td>\n",
       "      <td>False</td>\n",
       "      <td>False</td>\n",
       "    </tr>\n",
       "    <tr>\n",
       "      <th>99221</th>\n",
       "      <td>False</td>\n",
       "      <td>False</td>\n",
       "      <td>False</td>\n",
       "      <td>True</td>\n",
       "      <td>False</td>\n",
       "      <td>False</td>\n",
       "      <td>False</td>\n",
       "    </tr>\n",
       "    <tr>\n",
       "      <th>99222</th>\n",
       "      <td>False</td>\n",
       "      <td>False</td>\n",
       "      <td>False</td>\n",
       "      <td>True</td>\n",
       "      <td>True</td>\n",
       "      <td>False</td>\n",
       "      <td>False</td>\n",
       "    </tr>\n",
       "    <tr>\n",
       "      <th>99223</th>\n",
       "      <td>False</td>\n",
       "      <td>False</td>\n",
       "      <td>False</td>\n",
       "      <td>True</td>\n",
       "      <td>False</td>\n",
       "      <td>False</td>\n",
       "      <td>False</td>\n",
       "    </tr>\n",
       "  </tbody>\n",
       "</table>\n",
       "<p>99224 rows × 7 columns</p>\n",
       "</div>"
      ],
      "text/plain": [
       "       review_id  order_id  review_score  review_comment_title  \\\n",
       "0          False     False         False                  True   \n",
       "1          False     False         False                  True   \n",
       "2          False     False         False                  True   \n",
       "3          False     False         False                  True   \n",
       "4          False     False         False                  True   \n",
       "...          ...       ...           ...                   ...   \n",
       "99219      False     False         False                  True   \n",
       "99220      False     False         False                  True   \n",
       "99221      False     False         False                  True   \n",
       "99222      False     False         False                  True   \n",
       "99223      False     False         False                  True   \n",
       "\n",
       "       review_comment_message  review_creation_date  review_answer_timestamp  \n",
       "0                        True                 False                    False  \n",
       "1                        True                 False                    False  \n",
       "2                        True                 False                    False  \n",
       "3                       False                 False                    False  \n",
       "4                       False                 False                    False  \n",
       "...                       ...                   ...                      ...  \n",
       "99219                    True                 False                    False  \n",
       "99220                    True                 False                    False  \n",
       "99221                   False                 False                    False  \n",
       "99222                    True                 False                    False  \n",
       "99223                   False                 False                    False  \n",
       "\n",
       "[99224 rows x 7 columns]"
      ]
     },
     "metadata": {},
     "output_type": "display_data"
    }
   ],
   "source": [
    "order_reviews.isnull()"
   ]
  },
  {
   "cell_type": "code",
   "execution_count": null,
   "id": "016a62e4",
   "metadata": {},
   "outputs": [
    {
     "data": {
      "text/plain": [
       "review_comment_title\n",
       "True     87656\n",
       "False    11568\n",
       "Name: count, dtype: int64"
      ]
     },
     "metadata": {},
     "output_type": "display_data"
    }
   ],
   "source": [
    "order_reviews['review_comment_title'].isnull().value_counts()"
   ]
  },
  {
   "cell_type": "code",
   "execution_count": null,
   "id": "3a708e58",
   "metadata": {},
   "outputs": [
    {
     "data": {
      "text/plain": [
       "review_comment_message\n",
       "True     58247\n",
       "False    40977\n",
       "Name: count, dtype: int64"
      ]
     },
     "metadata": {},
     "output_type": "display_data"
    }
   ],
   "source": [
    "order_reviews['review_comment_message'].isnull().value_counts()"
   ]
  },
  {
   "cell_type": "markdown",
   "id": "0c0d812d",
   "metadata": {},
   "source": [
    "<div style=\"background-color:#C00000;  padding:10px; border-radius:5px;\">\n",
    "    \n",
    "  <p style=\"color:#B8B8B8; text-align:center; font-size:15px;\"> Outlier </p>\n",
    " \n",
    "</div>"
   ]
  },
  {
   "cell_type": "code",
   "execution_count": null,
   "id": "3dd3ace8",
   "metadata": {},
   "outputs": [
    {
     "data": {
      "text/html": [
       "<div>\n",
       "<style scoped>\n",
       "    .dataframe tbody tr th:only-of-type {\n",
       "        vertical-align: middle;\n",
       "    }\n",
       "\n",
       "    .dataframe tbody tr th {\n",
       "        vertical-align: top;\n",
       "    }\n",
       "\n",
       "    .dataframe thead th {\n",
       "        text-align: right;\n",
       "    }\n",
       "</style>\n",
       "<table border=\"1\" class=\"dataframe\">\n",
       "  <thead>\n",
       "    <tr style=\"text-align: right;\">\n",
       "      <th></th>\n",
       "      <th>review_score</th>\n",
       "    </tr>\n",
       "  </thead>\n",
       "  <tbody>\n",
       "    <tr>\n",
       "      <th>count</th>\n",
       "      <td>99224.000000</td>\n",
       "    </tr>\n",
       "    <tr>\n",
       "      <th>mean</th>\n",
       "      <td>4.086421</td>\n",
       "    </tr>\n",
       "    <tr>\n",
       "      <th>std</th>\n",
       "      <td>1.347579</td>\n",
       "    </tr>\n",
       "    <tr>\n",
       "      <th>min</th>\n",
       "      <td>1.000000</td>\n",
       "    </tr>\n",
       "    <tr>\n",
       "      <th>25%</th>\n",
       "      <td>4.000000</td>\n",
       "    </tr>\n",
       "    <tr>\n",
       "      <th>50%</th>\n",
       "      <td>5.000000</td>\n",
       "    </tr>\n",
       "    <tr>\n",
       "      <th>75%</th>\n",
       "      <td>5.000000</td>\n",
       "    </tr>\n",
       "    <tr>\n",
       "      <th>max</th>\n",
       "      <td>5.000000</td>\n",
       "    </tr>\n",
       "  </tbody>\n",
       "</table>\n",
       "</div>"
      ],
      "text/plain": [
       "       review_score\n",
       "count  99224.000000\n",
       "mean       4.086421\n",
       "std        1.347579\n",
       "min        1.000000\n",
       "25%        4.000000\n",
       "50%        5.000000\n",
       "75%        5.000000\n",
       "max        5.000000"
      ]
     },
     "metadata": {},
     "output_type": "display_data"
    }
   ],
   "source": [
    "order_reviews.describe()"
   ]
  },
  {
   "cell_type": "code",
   "execution_count": null,
   "id": "2c54d027",
   "metadata": {},
   "outputs": [
    {
     "data": {
      "image/png": "[encoded data removed]",
      "text/plain": [
       "<Figure size 640x480 with 1 Axes>"
      ]
     },
     "metadata": {},
     "output_type": "display_data"
    }
   ],
   "source": [
    "order_reviews.boxplot(column='review_score')\n",
    "plt.show()"
   ]
  },
  {
   "cell_type": "code",
   "execution_count": null,
   "id": "ebf64b4c",
   "metadata": {},
   "outputs": [
    {
     "name": "stdout",
     "output_type": "stream",
     "text": [
      "0\n"
     ]
    }
   ],
   "source": [
    "print(order_reviews[order_reviews['review_score']<0].value_counts().sum())"
   ]
  },
  {
   "cell_type": "markdown",
   "id": "3031e9a3",
   "metadata": {},
   "source": [
    "<div style=\"background-color:#17DCD7;  padding:10px; border-radius:10px;\">\n",
    "    \n",
    "  <p style=\"color:#D67218; text-align:center; font-size:20px;\"> order_dataset</p>\n",
    " \n",
    "</div>"
   ]
  },
  {
   "cell_type": "markdown",
   "id": "752c0a78",
   "metadata": {},
   "source": [
    "<div style=\"background-color:#9DEBA8;  padding:10px; border-radius:5px;\">\n",
    "    \n",
    "  <p style=\"color:#D67218; text-align:center; font-size:15px;\"> Preliminary statistical analysis </p>\n",
    " \n",
    "</div>"
   ]
  },
  {
   "cell_type": "code",
   "execution_count": null,
   "id": "3664a8aa",
   "metadata": {},
   "outputs": [
    {
     "name": "stdout",
     "output_type": "stream",
     "text": [
      "<class 'pandas.core.frame.DataFrame'>\n",
      "RangeIndex: 99441 entries, 0 to 99440\n",
      "Data columns (total 8 columns):\n",
      " #   Column                         Non-Null Count  Dtype \n",
      "---  ------                         --------------  ----- \n",
      " 0   order_id                       99441 non-null  object\n",
      " 1   customer_id                    99441 non-null  object\n",
      " 2   order_status                   99441 non-null  object\n",
      " 3   order_purchase_timestamp       99441 non-null  object\n",
      " 4   order_approved_at              99281 non-null  object\n",
      " 5   order_delivered_carrier_date   97658 non-null  object\n",
      " 6   order_delivered_customer_date  96476 non-null  object\n",
      " 7   order_estimated_delivery_date  99441 non-null  object\n",
      "dtypes: object(8)\n",
      "memory usage: 6.1+ MB\n"
     ]
    }
   ],
   "source": [
    "order_dataset.info()"
   ]
  },
  {
   "cell_type": "code",
   "execution_count": null,
   "id": "0c758577",
   "metadata": {},
   "outputs": [
    {
     "data": {
      "text/plain": [
       "(99441, 8)"
      ]
     },
     "metadata": {},
     "output_type": "display_data"
    }
   ],
   "source": [
    "order_dataset.shape"
   ]
  },
  {
   "cell_type": "code",
   "execution_count": null,
   "id": "85e9fbc9",
   "metadata": {},
   "outputs": [
    {
     "data": {
      "text/html": [
       "<div>\n",
       "<style scoped>\n",
       "    .dataframe tbody tr th:only-of-type {\n",
       "        vertical-align: middle;\n",
       "    }\n",
       "\n",
       "    .dataframe tbody tr th {\n",
       "        vertical-align: top;\n",
       "    }\n",
       "\n",
       "    .dataframe thead th {\n",
       "        text-align: right;\n",
       "    }\n",
       "</style>\n",
       "<table border=\"1\" class=\"dataframe\">\n",
       "  <thead>\n",
       "    <tr style=\"text-align: right;\">\n",
       "      <th></th>\n",
       "      <th>order_id</th>\n",
       "      <th>customer_id</th>\n",
       "      <th>order_status</th>\n",
       "      <th>order_purchase_timestamp</th>\n",
       "      <th>order_approved_at</th>\n",
       "      <th>order_delivered_carrier_date</th>\n",
       "      <th>order_delivered_customer_date</th>\n",
       "      <th>order_estimated_delivery_date</th>\n",
       "    </tr>\n",
       "  </thead>\n",
       "  <tbody>\n",
       "    <tr>\n",
       "      <th>0</th>\n",
       "      <td>e481f51cbdc54678b7cc49136f2d6af7</td>\n",
       "      <td>9ef432eb6251297304e76186b10a928d</td>\n",
       "      <td>delivered</td>\n",
       "      <td>2017-10-02 10:56:33</td>\n",
       "      <td>2017-10-02 11:07:15</td>\n",
       "      <td>2017-10-04 19:55:00</td>\n",
       "      <td>2017-10-10 21:25:13</td>\n",
       "      <td>2017-10-18 00:00:00</td>\n",
       "    </tr>\n",
       "    <tr>\n",
       "      <th>1</th>\n",
       "      <td>53cdb2fc8bc7dce0b6741e2150273451</td>\n",
       "      <td>b0830fb4747a6c6d20dea0b8c802d7ef</td>\n",
       "      <td>delivered</td>\n",
       "      <td>2018-07-24 20:41:37</td>\n",
       "      <td>2018-07-26 03:24:27</td>\n",
       "      <td>2018-07-26 14:31:00</td>\n",
       "      <td>2018-08-07 15:27:45</td>\n",
       "      <td>2018-08-13 00:00:00</td>\n",
       "    </tr>\n",
       "    <tr>\n",
       "      <th>2</th>\n",
       "      <td>47770eb9100c2d0c44946d9cf07ec65d</td>\n",
       "      <td>41ce2a54c0b03bf3443c3d931a367089</td>\n",
       "      <td>delivered</td>\n",
       "      <td>2018-08-08 08:38:49</td>\n",
       "      <td>2018-08-08 08:55:23</td>\n",
       "      <td>2018-08-08 13:50:00</td>\n",
       "      <td>2018-08-17 18:06:29</td>\n",
       "      <td>2018-09-04 00:00:00</td>\n",
       "    </tr>\n",
       "    <tr>\n",
       "      <th>3</th>\n",
       "      <td>949d5b44dbf5de918fe9c16f97b45f8a</td>\n",
       "      <td>f88197465ea7920adcdbec7375364d82</td>\n",
       "      <td>delivered</td>\n",
       "      <td>2017-11-18 19:28:06</td>\n",
       "      <td>2017-11-18 19:45:59</td>\n",
       "      <td>2017-11-22 13:39:59</td>\n",
       "      <td>2017-12-02 00:28:42</td>\n",
       "      <td>2017-12-15 00:00:00</td>\n",
       "    </tr>\n",
       "    <tr>\n",
       "      <th>4</th>\n",
       "      <td>ad21c59c0840e6cb83a9ceb5573f8159</td>\n",
       "      <td>8ab97904e6daea8866dbdbc4fb7aad2c</td>\n",
       "      <td>delivered</td>\n",
       "      <td>2018-02-13 21:18:39</td>\n",
       "      <td>2018-02-13 22:20:29</td>\n",
       "      <td>2018-02-14 19:46:34</td>\n",
       "      <td>2018-02-16 18:17:02</td>\n",
       "      <td>2018-02-26 00:00:00</td>\n",
       "    </tr>\n",
       "  </tbody>\n",
       "</table>\n",
       "</div>"
      ],
      "text/plain": [
       "                           order_id                       customer_id  \\\n",
       "0  e481f51cbdc54678b7cc49136f2d6af7  9ef432eb6251297304e76186b10a928d   \n",
       "1  53cdb2fc8bc7dce0b6741e2150273451  b0830fb4747a6c6d20dea0b8c802d7ef   \n",
       "2  47770eb9100c2d0c44946d9cf07ec65d  41ce2a54c0b03bf3443c3d931a367089   \n",
       "3  949d5b44dbf5de918fe9c16f97b45f8a  f88197465ea7920adcdbec7375364d82   \n",
       "4  ad21c59c0840e6cb83a9ceb5573f8159  8ab97904e6daea8866dbdbc4fb7aad2c   \n",
       "\n",
       "  order_status order_purchase_timestamp    order_approved_at  \\\n",
       "0    delivered      2017-10-02 10:56:33  2017-10-02 11:07:15   \n",
       "1    delivered      2018-07-24 20:41:37  2018-07-26 03:24:27   \n",
       "2    delivered      2018-08-08 08:38:49  2018-08-08 08:55:23   \n",
       "3    delivered      2017-11-18 19:28:06  2017-11-18 19:45:59   \n",
       "4    delivered      2018-02-13 21:18:39  2018-02-13 22:20:29   \n",
       "\n",
       "  order_delivered_carrier_date order_delivered_customer_date  \\\n",
       "0          2017-10-04 19:55:00           2017-10-10 21:25:13   \n",
       "1          2018-07-26 14:31:00           2018-08-07 15:27:45   \n",
       "2          2018-08-08 13:50:00           2018-08-17 18:06:29   \n",
       "3          2017-11-22 13:39:59           2017-12-02 00:28:42   \n",
       "4          2018-02-14 19:46:34           2018-02-16 18:17:02   \n",
       "\n",
       "  order_estimated_delivery_date  \n",
       "0           2017-10-18 00:00:00  \n",
       "1           2018-08-13 00:00:00  \n",
       "2           2018-09-04 00:00:00  \n",
       "3           2017-12-15 00:00:00  \n",
       "4           2018-02-26 00:00:00  "
      ]
     },
     "metadata": {},
     "output_type": "display_data"
    }
   ],
   "source": [
    "order_dataset.head()"
   ]
  },
  {
   "cell_type": "markdown",
   "id": "efab176f",
   "metadata": {},
   "source": [
    "<div style=\"background-color:#CD7125;  padding:10px; border-radius:5px;\">\n",
    "    \n",
    "  <p style=\"color:#D2DB17; text-align:center; font-size:15px;\"> Nullity </p>\n",
    " \n",
    "</div>"
   ]
  },
  {
   "cell_type": "code",
   "execution_count": null,
   "id": "8f8cfec6",
   "metadata": {},
   "outputs": [
    {
     "data": {
      "text/html": [
       "<div>\n",
       "<style scoped>\n",
       "    .dataframe tbody tr th:only-of-type {\n",
       "        vertical-align: middle;\n",
       "    }\n",
       "\n",
       "    .dataframe tbody tr th {\n",
       "        vertical-align: top;\n",
       "    }\n",
       "\n",
       "    .dataframe thead th {\n",
       "        text-align: right;\n",
       "    }\n",
       "</style>\n",
       "<table border=\"1\" class=\"dataframe\">\n",
       "  <thead>\n",
       "    <tr style=\"text-align: right;\">\n",
       "      <th></th>\n",
       "      <th>order_id</th>\n",
       "      <th>customer_id</th>\n",
       "      <th>order_status</th>\n",
       "      <th>order_purchase_timestamp</th>\n",
       "      <th>order_approved_at</th>\n",
       "      <th>order_delivered_carrier_date</th>\n",
       "      <th>order_delivered_customer_date</th>\n",
       "      <th>order_estimated_delivery_date</th>\n",
       "    </tr>\n",
       "  </thead>\n",
       "  <tbody>\n",
       "    <tr>\n",
       "      <th>0</th>\n",
       "      <td>False</td>\n",
       "      <td>False</td>\n",
       "      <td>False</td>\n",
       "      <td>False</td>\n",
       "      <td>False</td>\n",
       "      <td>False</td>\n",
       "      <td>False</td>\n",
       "      <td>False</td>\n",
       "    </tr>\n",
       "    <tr>\n",
       "      <th>1</th>\n",
       "      <td>False</td>\n",
       "      <td>False</td>\n",
       "      <td>False</td>\n",
       "      <td>False</td>\n",
       "      <td>False</td>\n",
       "      <td>False</td>\n",
       "      <td>False</td>\n",
       "      <td>False</td>\n",
       "    </tr>\n",
       "    <tr>\n",
       "      <th>2</th>\n",
       "      <td>False</td>\n",
       "      <td>False</td>\n",
       "      <td>False</td>\n",
       "      <td>False</td>\n",
       "      <td>False</td>\n",
       "      <td>False</td>\n",
       "      <td>False</td>\n",
       "      <td>False</td>\n",
       "    </tr>\n",
       "    <tr>\n",
       "      <th>3</th>\n",
       "      <td>False</td>\n",
       "      <td>False</td>\n",
       "      <td>False</td>\n",
       "      <td>False</td>\n",
       "      <td>False</td>\n",
       "      <td>False</td>\n",
       "      <td>False</td>\n",
       "      <td>False</td>\n",
       "    </tr>\n",
       "    <tr>\n",
       "      <th>4</th>\n",
       "      <td>False</td>\n",
       "      <td>False</td>\n",
       "      <td>False</td>\n",
       "      <td>False</td>\n",
       "      <td>False</td>\n",
       "      <td>False</td>\n",
       "      <td>False</td>\n",
       "      <td>False</td>\n",
       "    </tr>\n",
       "    <tr>\n",
       "      <th>...</th>\n",
       "      <td>...</td>\n",
       "      <td>...</td>\n",
       "      <td>...</td>\n",
       "      <td>...</td>\n",
       "      <td>...</td>\n",
       "      <td>...</td>\n",
       "      <td>...</td>\n",
       "      <td>...</td>\n",
       "    </tr>\n",
       "    <tr>\n",
       "      <th>99436</th>\n",
       "      <td>False</td>\n",
       "      <td>False</td>\n",
       "      <td>False</td>\n",
       "      <td>False</td>\n",
       "      <td>False</td>\n",
       "      <td>False</td>\n",
       "      <td>False</td>\n",
       "      <td>False</td>\n",
       "    </tr>\n",
       "    <tr>\n",
       "      <th>99437</th>\n",
       "      <td>False</td>\n",
       "      <td>False</td>\n",
       "      <td>False</td>\n",
       "      <td>False</td>\n",
       "      <td>False</td>\n",
       "      <td>False</td>\n",
       "      <td>False</td>\n",
       "      <td>False</td>\n",
       "    </tr>\n",
       "    <tr>\n",
       "      <th>99438</th>\n",
       "      <td>False</td>\n",
       "      <td>False</td>\n",
       "      <td>False</td>\n",
       "      <td>False</td>\n",
       "      <td>False</td>\n",
       "      <td>False</td>\n",
       "      <td>False</td>\n",
       "      <td>False</td>\n",
       "    </tr>\n",
       "    <tr>\n",
       "      <th>99439</th>\n",
       "      <td>False</td>\n",
       "      <td>False</td>\n",
       "      <td>False</td>\n",
       "      <td>False</td>\n",
       "      <td>False</td>\n",
       "      <td>False</td>\n",
       "      <td>False</td>\n",
       "      <td>False</td>\n",
       "    </tr>\n",
       "    <tr>\n",
       "      <th>99440</th>\n",
       "      <td>False</td>\n",
       "      <td>False</td>\n",
       "      <td>False</td>\n",
       "      <td>False</td>\n",
       "      <td>False</td>\n",
       "      <td>False</td>\n",
       "      <td>False</td>\n",
       "      <td>False</td>\n",
       "    </tr>\n",
       "  </tbody>\n",
       "</table>\n",
       "<p>99441 rows × 8 columns</p>\n",
       "</div>"
      ],
      "text/plain": [
       "       order_id  customer_id  order_status  order_purchase_timestamp  \\\n",
       "0         False        False         False                     False   \n",
       "1         False        False         False                     False   \n",
       "2         False        False         False                     False   \n",
       "3         False        False         False                     False   \n",
       "4         False        False         False                     False   \n",
       "...         ...          ...           ...                       ...   \n",
       "99436     False        False         False                     False   \n",
       "99437     False        False         False                     False   \n",
       "99438     False        False         False                     False   \n",
       "99439     False        False         False                     False   \n",
       "99440     False        False         False                     False   \n",
       "\n",
       "       order_approved_at  order_delivered_carrier_date  \\\n",
       "0                  False                         False   \n",
       "1                  False                         False   \n",
       "2                  False                         False   \n",
       "3                  False                         False   \n",
       "4                  False                         False   \n",
       "...                  ...                           ...   \n",
       "99436              False                         False   \n",
       "99437              False                         False   \n",
       "99438              False                         False   \n",
       "99439              False                         False   \n",
       "99440              False                         False   \n",
       "\n",
       "       order_delivered_customer_date  order_estimated_delivery_date  \n",
       "0                              False                          False  \n",
       "1                              False                          False  \n",
       "2                              False                          False  \n",
       "3                              False                          False  \n",
       "4                              False                          False  \n",
       "...                              ...                            ...  \n",
       "99436                          False                          False  \n",
       "99437                          False                          False  \n",
       "99438                          False                          False  \n",
       "99439                          False                          False  \n",
       "99440                          False                          False  \n",
       "\n",
       "[99441 rows x 8 columns]"
      ]
     },
     "metadata": {},
     "output_type": "display_data"
    }
   ],
   "source": [
    "order_dataset.isnull()"
   ]
  },
  {
   "cell_type": "code",
   "execution_count": null,
   "id": "1705004d",
   "metadata": {},
   "outputs": [
    {
     "data": {
      "text/plain": [
       "order_approved_at\n",
       "False    99281\n",
       "True       160\n",
       "Name: count, dtype: int64"
      ]
     },
     "metadata": {},
     "output_type": "display_data"
    }
   ],
   "source": [
    "order_dataset['order_approved_at'].isnull().value_counts()\n"
   ]
  },
  {
   "cell_type": "code",
   "execution_count": null,
   "id": "f09954ed",
   "metadata": {},
   "outputs": [
    {
     "data": {
      "text/plain": [
       "order_delivered_carrier_date\n",
       "False    97658\n",
       "True      1783\n",
       "Name: count, dtype: int64"
      ]
     },
     "metadata": {},
     "output_type": "display_data"
    }
   ],
   "source": [
    "order_dataset['order_delivered_carrier_date'].isnull().value_counts()"
   ]
  },
  {
   "cell_type": "code",
   "execution_count": null,
   "id": "f269bad1",
   "metadata": {},
   "outputs": [
    {
     "data": {
      "text/plain": [
       "order_delivered_customer_date\n",
       "False    96476\n",
       "True      2965\n",
       "Name: count, dtype: int64"
      ]
     },
     "metadata": {},
     "output_type": "display_data"
    }
   ],
   "source": [
    "\n",
    "order_dataset['order_delivered_customer_date'].isnull().value_counts()"
   ]
  },
  {
   "cell_type": "markdown",
   "id": "d60117e0",
   "metadata": {},
   "source": [
    "<div style=\"background-color:#C00000;  padding:10px; border-radius:5px;\">\n",
    "    \n",
    "  <p style=\"color:#B8B8B8; text-align:center; font-size:15px;\"> Outlier </p>\n",
    " \n",
    "</div>"
   ]
  },
  {
   "cell_type": "code",
   "execution_count": null,
   "id": "0c6a8faa",
   "metadata": {},
   "outputs": [
    {
     "data": {
      "text/html": [
       "<div>\n",
       "<style scoped>\n",
       "    .dataframe tbody tr th:only-of-type {\n",
       "        vertical-align: middle;\n",
       "    }\n",
       "\n",
       "    .dataframe tbody tr th {\n",
       "        vertical-align: top;\n",
       "    }\n",
       "\n",
       "    .dataframe thead th {\n",
       "        text-align: right;\n",
       "    }\n",
       "</style>\n",
       "<table border=\"1\" class=\"dataframe\">\n",
       "  <thead>\n",
       "    <tr style=\"text-align: right;\">\n",
       "      <th></th>\n",
       "      <th>order_id</th>\n",
       "      <th>customer_id</th>\n",
       "      <th>order_status</th>\n",
       "      <th>order_purchase_timestamp</th>\n",
       "      <th>order_approved_at</th>\n",
       "      <th>order_delivered_carrier_date</th>\n",
       "      <th>order_delivered_customer_date</th>\n",
       "      <th>order_estimated_delivery_date</th>\n",
       "    </tr>\n",
       "  </thead>\n",
       "  <tbody>\n",
       "    <tr>\n",
       "      <th>count</th>\n",
       "      <td>99441</td>\n",
       "      <td>99441</td>\n",
       "      <td>99441</td>\n",
       "      <td>99441</td>\n",
       "      <td>99281</td>\n",
       "      <td>97658</td>\n",
       "      <td>96476</td>\n",
       "      <td>99441</td>\n",
       "    </tr>\n",
       "    <tr>\n",
       "      <th>unique</th>\n",
       "      <td>99441</td>\n",
       "      <td>99441</td>\n",
       "      <td>8</td>\n",
       "      <td>98875</td>\n",
       "      <td>90733</td>\n",
       "      <td>81018</td>\n",
       "      <td>95664</td>\n",
       "      <td>459</td>\n",
       "    </tr>\n",
       "    <tr>\n",
       "      <th>top</th>\n",
       "      <td>e481f51cbdc54678b7cc49136f2d6af7</td>\n",
       "      <td>9ef432eb6251297304e76186b10a928d</td>\n",
       "      <td>delivered</td>\n",
       "      <td>2018-04-11 10:48:14</td>\n",
       "      <td>2018-02-27 04:31:10</td>\n",
       "      <td>2018-05-09 15:48:00</td>\n",
       "      <td>2018-05-08 23:38:46</td>\n",
       "      <td>2017-12-20 00:00:00</td>\n",
       "    </tr>\n",
       "    <tr>\n",
       "      <th>freq</th>\n",
       "      <td>1</td>\n",
       "      <td>1</td>\n",
       "      <td>96478</td>\n",
       "      <td>3</td>\n",
       "      <td>9</td>\n",
       "      <td>47</td>\n",
       "      <td>3</td>\n",
       "      <td>522</td>\n",
       "    </tr>\n",
       "  </tbody>\n",
       "</table>\n",
       "</div>"
      ],
      "text/plain": [
       "                                order_id                       customer_id  \\\n",
       "count                              99441                             99441   \n",
       "unique                             99441                             99441   \n",
       "top     e481f51cbdc54678b7cc49136f2d6af7  9ef432eb6251297304e76186b10a928d   \n",
       "freq                                   1                                 1   \n",
       "\n",
       "       order_status order_purchase_timestamp    order_approved_at  \\\n",
       "count         99441                    99441                99281   \n",
       "unique            8                    98875                90733   \n",
       "top       delivered      2018-04-11 10:48:14  2018-02-27 04:31:10   \n",
       "freq          96478                        3                    9   \n",
       "\n",
       "       order_delivered_carrier_date order_delivered_customer_date  \\\n",
       "count                         97658                         96476   \n",
       "unique                        81018                         95664   \n",
       "top             2018-05-09 15:48:00           2018-05-08 23:38:46   \n",
       "freq                             47                             3   \n",
       "\n",
       "       order_estimated_delivery_date  \n",
       "count                          99441  \n",
       "unique                           459  \n",
       "top              2017-12-20 00:00:00  \n",
       "freq                             522  "
      ]
     },
     "metadata": {},
     "output_type": "display_data"
    }
   ],
   "source": [
    "order_dataset.describe()"
   ]
  },
  {
   "cell_type": "code",
   "execution_count": null,
   "id": "2a2861ba",
   "metadata": {},
   "outputs": [],
   "source": [
    "order_dataset['order_purchase_timestamp']=pd.to_datetime(order_dataset['order_purchase_timestamp'])\n",
    "order_dataset['order_approved_at']=pd.to_datetime(order_dataset['order_approved_at'])\n",
    "order_dataset['order_delivered_carrier_date']=pd.to_datetime(order_dataset['order_delivered_carrier_date'])\n",
    "order_dataset['order_delivered_customer_date']=pd.to_datetime(order_dataset['order_delivered_customer_date'])\n",
    "order_dataset['order_estimated_delivery_date']=pd.to_datetime(order_dataset['order_estimated_delivery_date'])"
   ]
  },
  {
   "cell_type": "code",
   "execution_count": null,
   "id": "18da0f85",
   "metadata": {},
   "outputs": [],
   "source": [
    " order_dataset['start_end']=order_dataset['order_delivered_carrier_date']>order_dataset['order_delivered_customer_date']"
   ]
  },
  {
   "cell_type": "code",
   "execution_count": null,
   "id": "704f5e1d",
   "metadata": {},
   "outputs": [
    {
     "name": "stdout",
     "output_type": "stream",
     "text": [
      "Outlier: 0        False\n",
      "1        False\n",
      "2        False\n",
      "3        False\n",
      "4        False\n",
      "         ...  \n",
      "99436    False\n",
      "99437    False\n",
      "99438    False\n",
      "99439    False\n",
      "99440    False\n",
      "Name: start_end, Length: 99441, dtype: bool\n"
     ]
    }
   ],
   "source": [
    "print(\"Outlier:\", order_dataset['start_end'])"
   ]
  },
  {
   "cell_type": "code",
   "execution_count": null,
   "id": "abe3bb13",
   "metadata": {},
   "outputs": [
    {
     "name": "stdout",
     "output_type": "stream",
     "text": [
      "True_Raws:       order_delivered_carrier_date order_delivered_customer_date\n",
      "6437           2017-07-28 16:57:58           2017-07-25 19:32:56\n",
      "9553           2017-07-07 17:22:41           2017-07-06 14:27:51\n",
      "13487          2017-07-20 19:22:02           2017-07-19 14:13:28\n",
      "14474          2017-08-01 18:23:30           2017-07-26 18:09:10\n",
      "19268          2017-07-20 23:03:42           2017-07-20 18:52:41\n",
      "21338          2016-10-26 11:41:53           2016-10-25 17:51:46\n",
      "22520          2017-06-27 14:51:54           2017-06-26 15:45:35\n",
      "25393          2017-08-10 18:28:56           2017-08-10 18:05:38\n",
      "25646          2017-08-01 18:17:47           2017-07-31 17:49:56\n",
      "27470          2017-08-09 18:18:43           2017-08-01 21:13:01\n",
      "34939          2017-03-02 17:34:26           2017-02-14 15:15:57\n",
      "41636          2017-02-20 02:32:08           2017-02-15 03:53:46\n",
      "45302          2017-06-09 15:07:29           2017-06-02 11:09:16\n",
      "49933          2016-10-26 11:43:06           2016-10-20 18:03:17\n",
      "50373          2017-07-14 12:41:34           2017-07-12 20:49:42\n",
      "58428          2017-08-04 20:04:17           2017-08-03 20:30:00\n",
      "68312          2017-07-11 18:15:40           2017-07-11 17:41:26\n",
      "71227          2016-10-26 11:42:05           2016-10-20 19:07:54\n",
      "74967          2017-02-15 08:55:26           2017-02-10 07:58:32\n",
      "76120          2017-03-30 13:14:34           2017-03-28 17:28:32\n",
      "78556          2017-07-27 19:21:31           2017-07-25 19:43:10\n",
      "90373          2017-08-12 00:03:35           2017-08-10 21:22:31\n",
      "95634          2016-10-21 18:02:40           2016-10-20 20:33:27\n",
      "True_Raws_number: 23\n"
     ]
    }
   ],
   "source": [
    "True_Raws=order_dataset[order_dataset['start_end']==True]\n",
    "print(\"True_Raws:\", True_Raws[['order_delivered_carrier_date','order_delivered_customer_date' ]])\n",
    "print(\"True_Raws_number:\",True_Raws.value_counts().sum())"
   ]
  },
  {
   "cell_type": "code",
   "execution_count": null,
   "id": "a0271222",
   "metadata": {},
   "outputs": [
    {
     "name": "stdout",
     "output_type": "stream",
     "text": [
      "outlier_date: <bound method Series.sum of False    99418\n",
      "True        23\n",
      "Name: count, dtype: int64>\n"
     ]
    }
   ],
   "source": [
    "print(\"outlier_date:\", (order_dataset['order_delivered_carrier_date']>order_dataset['order_delivered_customer_date']).value_counts().sum)"
   ]
  },
  {
   "cell_type": "markdown",
   "id": "c25ca9c4",
   "metadata": {},
   "source": [
    "<div style=\"background-color:#17DCD7;  padding:10px; border-radius:10px;\">\n",
    "    \n",
    "  <p style=\"color:#D67218; text-align:center; font-size:20px;\"> products</p>\n",
    " \n",
    "</div>"
   ]
  },
  {
   "cell_type": "markdown",
   "id": "a1cf6b27",
   "metadata": {},
   "source": [
    "<div style=\"background-color:#9DEBA8;  padding:10px; border-radius:5px;\">\n",
    "    \n",
    "  <p style=\"color:#D67218; text-align:center; font-size:15px;\"> Preliminary statistical analysis </p>\n",
    " \n",
    "</div>"
   ]
  },
  {
   "cell_type": "code",
   "execution_count": null,
   "id": "e62af4b4",
   "metadata": {},
   "outputs": [
    {
     "name": "stdout",
     "output_type": "stream",
     "text": [
      "<class 'pandas.core.frame.DataFrame'>\n",
      "RangeIndex: 32951 entries, 0 to 32950\n",
      "Data columns (total 9 columns):\n",
      " #   Column                      Non-Null Count  Dtype  \n",
      "---  ------                      --------------  -----  \n",
      " 0   product_id                  32951 non-null  object \n",
      " 1   product_category_name       32341 non-null  object \n",
      " 2   product_name_lenght         32341 non-null  float64\n",
      " 3   product_description_lenght  32341 non-null  float64\n",
      " 4   product_photos_qty          32341 non-null  float64\n",
      " 5   product_weight_g            32949 non-null  float64\n",
      " 6   product_length_cm           32949 non-null  float64\n",
      " 7   product_height_cm           32949 non-null  float64\n",
      " 8   product_width_cm            32949 non-null  float64\n",
      "dtypes: float64(7), object(2)\n",
      "memory usage: 2.3+ MB\n"
     ]
    }
   ],
   "source": [
    "products.info()"
   ]
  },
  {
   "cell_type": "code",
   "execution_count": null,
   "id": "0a9910e4",
   "metadata": {},
   "outputs": [
    {
     "data": {
      "text/plain": [
       "(32951, 9)"
      ]
     },
     "metadata": {},
     "output_type": "display_data"
    }
   ],
   "source": [
    "products.shape"
   ]
  },
  {
   "cell_type": "markdown",
   "id": "068b2431",
   "metadata": {},
   "source": [
    "<div style=\"background-color:#CD7125;  padding:10px; border-radius:5px;\">\n",
    "    \n",
    "  <p style=\"color:#D2DB17; text-align:center; font-size:15px;\"> Nullity </p>\n",
    " \n",
    "</div>"
   ]
  },
  {
   "cell_type": "code",
   "execution_count": null,
   "id": "69f9a0b9",
   "metadata": {},
   "outputs": [
    {
     "data": {
      "text/html": [
       "<div>\n",
       "<style scoped>\n",
       "    .dataframe tbody tr th:only-of-type {\n",
       "        vertical-align: middle;\n",
       "    }\n",
       "\n",
       "    .dataframe tbody tr th {\n",
       "        vertical-align: top;\n",
       "    }\n",
       "\n",
       "    .dataframe thead th {\n",
       "        text-align: right;\n",
       "    }\n",
       "</style>\n",
       "<table border=\"1\" class=\"dataframe\">\n",
       "  <thead>\n",
       "    <tr style=\"text-align: right;\">\n",
       "      <th></th>\n",
       "      <th>product_id</th>\n",
       "      <th>product_category_name</th>\n",
       "      <th>product_name_lenght</th>\n",
       "      <th>product_description_lenght</th>\n",
       "      <th>product_photos_qty</th>\n",
       "      <th>product_weight_g</th>\n",
       "      <th>product_length_cm</th>\n",
       "      <th>product_height_cm</th>\n",
       "      <th>product_width_cm</th>\n",
       "    </tr>\n",
       "  </thead>\n",
       "  <tbody>\n",
       "    <tr>\n",
       "      <th>0</th>\n",
       "      <td>False</td>\n",
       "      <td>False</td>\n",
       "      <td>False</td>\n",
       "      <td>False</td>\n",
       "      <td>False</td>\n",
       "      <td>False</td>\n",
       "      <td>False</td>\n",
       "      <td>False</td>\n",
       "      <td>False</td>\n",
       "    </tr>\n",
       "    <tr>\n",
       "      <th>1</th>\n",
       "      <td>False</td>\n",
       "      <td>False</td>\n",
       "      <td>False</td>\n",
       "      <td>False</td>\n",
       "      <td>False</td>\n",
       "      <td>False</td>\n",
       "      <td>False</td>\n",
       "      <td>False</td>\n",
       "      <td>False</td>\n",
       "    </tr>\n",
       "    <tr>\n",
       "      <th>2</th>\n",
       "      <td>False</td>\n",
       "      <td>False</td>\n",
       "      <td>False</td>\n",
       "      <td>False</td>\n",
       "      <td>False</td>\n",
       "      <td>False</td>\n",
       "      <td>False</td>\n",
       "      <td>False</td>\n",
       "      <td>False</td>\n",
       "    </tr>\n",
       "    <tr>\n",
       "      <th>3</th>\n",
       "      <td>False</td>\n",
       "      <td>False</td>\n",
       "      <td>False</td>\n",
       "      <td>False</td>\n",
       "      <td>False</td>\n",
       "      <td>False</td>\n",
       "      <td>False</td>\n",
       "      <td>False</td>\n",
       "      <td>False</td>\n",
       "    </tr>\n",
       "    <tr>\n",
       "      <th>4</th>\n",
       "      <td>False</td>\n",
       "      <td>False</td>\n",
       "      <td>False</td>\n",
       "      <td>False</td>\n",
       "      <td>False</td>\n",
       "      <td>False</td>\n",
       "      <td>False</td>\n",
       "      <td>False</td>\n",
       "      <td>False</td>\n",
       "    </tr>\n",
       "    <tr>\n",
       "      <th>...</th>\n",
       "      <td>...</td>\n",
       "      <td>...</td>\n",
       "      <td>...</td>\n",
       "      <td>...</td>\n",
       "      <td>...</td>\n",
       "      <td>...</td>\n",
       "      <td>...</td>\n",
       "      <td>...</td>\n",
       "      <td>...</td>\n",
       "    </tr>\n",
       "    <tr>\n",
       "      <th>32946</th>\n",
       "      <td>False</td>\n",
       "      <td>False</td>\n",
       "      <td>False</td>\n",
       "      <td>False</td>\n",
       "      <td>False</td>\n",
       "      <td>False</td>\n",
       "      <td>False</td>\n",
       "      <td>False</td>\n",
       "      <td>False</td>\n",
       "    </tr>\n",
       "    <tr>\n",
       "      <th>32947</th>\n",
       "      <td>False</td>\n",
       "      <td>False</td>\n",
       "      <td>False</td>\n",
       "      <td>False</td>\n",
       "      <td>False</td>\n",
       "      <td>False</td>\n",
       "      <td>False</td>\n",
       "      <td>False</td>\n",
       "      <td>False</td>\n",
       "    </tr>\n",
       "    <tr>\n",
       "      <th>32948</th>\n",
       "      <td>False</td>\n",
       "      <td>False</td>\n",
       "      <td>False</td>\n",
       "      <td>False</td>\n",
       "      <td>False</td>\n",
       "      <td>False</td>\n",
       "      <td>False</td>\n",
       "      <td>False</td>\n",
       "      <td>False</td>\n",
       "    </tr>\n",
       "    <tr>\n",
       "      <th>32949</th>\n",
       "      <td>False</td>\n",
       "      <td>False</td>\n",
       "      <td>False</td>\n",
       "      <td>False</td>\n",
       "      <td>False</td>\n",
       "      <td>False</td>\n",
       "      <td>False</td>\n",
       "      <td>False</td>\n",
       "      <td>False</td>\n",
       "    </tr>\n",
       "    <tr>\n",
       "      <th>32950</th>\n",
       "      <td>False</td>\n",
       "      <td>False</td>\n",
       "      <td>False</td>\n",
       "      <td>False</td>\n",
       "      <td>False</td>\n",
       "      <td>False</td>\n",
       "      <td>False</td>\n",
       "      <td>False</td>\n",
       "      <td>False</td>\n",
       "    </tr>\n",
       "  </tbody>\n",
       "</table>\n",
       "<p>32951 rows × 9 columns</p>\n",
       "</div>"
      ],
      "text/plain": [
       "       product_id  product_category_name  product_name_lenght  \\\n",
       "0           False                  False                False   \n",
       "1           False                  False                False   \n",
       "2           False                  False                False   \n",
       "3           False                  False                False   \n",
       "4           False                  False                False   \n",
       "...           ...                    ...                  ...   \n",
       "32946       False                  False                False   \n",
       "32947       False                  False                False   \n",
       "32948       False                  False                False   \n",
       "32949       False                  False                False   \n",
       "32950       False                  False                False   \n",
       "\n",
       "       product_description_lenght  product_photos_qty  product_weight_g  \\\n",
       "0                           False               False             False   \n",
       "1                           False               False             False   \n",
       "2                           False               False             False   \n",
       "3                           False               False             False   \n",
       "4                           False               False             False   \n",
       "...                           ...                 ...               ...   \n",
       "32946                       False               False             False   \n",
       "32947                       False               False             False   \n",
       "32948                       False               False             False   \n",
       "32949                       False               False             False   \n",
       "32950                       False               False             False   \n",
       "\n",
       "       product_length_cm  product_height_cm  product_width_cm  \n",
       "0                  False              False             False  \n",
       "1                  False              False             False  \n",
       "2                  False              False             False  \n",
       "3                  False              False             False  \n",
       "4                  False              False             False  \n",
       "...                  ...                ...               ...  \n",
       "32946              False              False             False  \n",
       "32947              False              False             False  \n",
       "32948              False              False             False  \n",
       "32949              False              False             False  \n",
       "32950              False              False             False  \n",
       "\n",
       "[32951 rows x 9 columns]"
      ]
     },
     "metadata": {},
     "output_type": "display_data"
    }
   ],
   "source": [
    "products.isnull()"
   ]
  },
  {
   "cell_type": "code",
   "execution_count": null,
   "id": "ecc613bc",
   "metadata": {},
   "outputs": [
    {
     "data": {
      "text/plain": [
       "product_category_name\n",
       "False    32341\n",
       "True       610\n",
       "Name: count, dtype: int64"
      ]
     },
     "metadata": {},
     "output_type": "display_data"
    }
   ],
   "source": [
    "products['product_category_name'].isnull().value_counts()"
   ]
  },
  {
   "cell_type": "code",
   "execution_count": null,
   "id": "4fd5cd51",
   "metadata": {},
   "outputs": [
    {
     "data": {
      "text/plain": [
       "product_name_lenght\n",
       "False    32341\n",
       "True       610\n",
       "Name: count, dtype: int64"
      ]
     },
     "metadata": {},
     "output_type": "display_data"
    }
   ],
   "source": [
    "products['product_name_lenght'].isnull().value_counts()"
   ]
  },
  {
   "cell_type": "code",
   "execution_count": null,
   "id": "584b5dfc",
   "metadata": {},
   "outputs": [
    {
     "data": {
      "text/plain": [
       "product_description_lenght\n",
       "False    32341\n",
       "True       610\n",
       "Name: count, dtype: int64"
      ]
     },
     "metadata": {},
     "output_type": "display_data"
    }
   ],
   "source": [
    "products['product_description_lenght'].isnull().value_counts()"
   ]
  },
  {
   "cell_type": "code",
   "execution_count": null,
   "id": "e977fca6",
   "metadata": {},
   "outputs": [
    {
     "data": {
      "text/plain": [
       "product_photos_qty\n",
       "False    32341\n",
       "True       610\n",
       "Name: count, dtype: int64"
      ]
     },
     "metadata": {},
     "output_type": "display_data"
    }
   ],
   "source": [
    "products['product_photos_qty'].isnull().value_counts()"
   ]
  },
  {
   "cell_type": "code",
   "execution_count": null,
   "id": "b8e13ec2",
   "metadata": {},
   "outputs": [
    {
     "data": {
      "text/plain": [
       "product_weight_g\n",
       "False    32949\n",
       "True         2\n",
       "Name: count, dtype: int64"
      ]
     },
     "metadata": {},
     "output_type": "display_data"
    }
   ],
   "source": [
    "products['product_weight_g'].isnull().value_counts()"
   ]
  },
  {
   "cell_type": "code",
   "execution_count": null,
   "id": "a70efdbf",
   "metadata": {},
   "outputs": [
    {
     "data": {
      "text/plain": [
       "product_length_cm\n",
       "False    32949\n",
       "True         2\n",
       "Name: count, dtype: int64"
      ]
     },
     "metadata": {},
     "output_type": "display_data"
    }
   ],
   "source": [
    "products['product_length_cm'].isnull().value_counts()"
   ]
  },
  {
   "cell_type": "code",
   "execution_count": null,
   "id": "1c6ae3fe",
   "metadata": {},
   "outputs": [
    {
     "data": {
      "text/plain": [
       "product_height_cm\n",
       "False    32949\n",
       "True         2\n",
       "Name: count, dtype: int64"
      ]
     },
     "metadata": {},
     "output_type": "display_data"
    }
   ],
   "source": [
    "products['product_height_cm'].isnull().value_counts()"
   ]
  },
  {
   "cell_type": "code",
   "execution_count": null,
   "id": "0eb75cc1",
   "metadata": {},
   "outputs": [
    {
     "data": {
      "text/plain": [
       "product_width_cm\n",
       "False    32949\n",
       "True         2\n",
       "Name: count, dtype: int64"
      ]
     },
     "metadata": {},
     "output_type": "display_data"
    }
   ],
   "source": [
    "products['product_width_cm'].isnull().value_counts()"
   ]
  },
  {
   "cell_type": "markdown",
   "id": "b1be010b",
   "metadata": {},
   "source": [
    "<div style=\"background-color:#17DCD7;  padding:10px; border-radius:10px;\">\n",
    "    \n",
    "  <p style=\"color:#D67218; text-align:center; font-size:20px;\"> sellers</p>\n",
    " \n",
    "</div>"
   ]
  },
  {
   "cell_type": "markdown",
   "id": "c1f05e0a",
   "metadata": {},
   "source": [
    "<div style=\"background-color:#9DEBA8;  padding:10px; border-radius:5px;\">\n",
    "    \n",
    "  <p style=\"color:#D67218; text-align:center; font-size:15px;\"> Preliminary statistical analysis </p>\n",
    " \n",
    "</div>"
   ]
  },
  {
   "cell_type": "code",
   "execution_count": null,
   "id": "6e7d6fbb",
   "metadata": {},
   "outputs": [
    {
     "name": "stdout",
     "output_type": "stream",
     "text": [
      "<class 'pandas.core.frame.DataFrame'>\n",
      "RangeIndex: 3095 entries, 0 to 3094\n",
      "Data columns (total 4 columns):\n",
      " #   Column                  Non-Null Count  Dtype \n",
      "---  ------                  --------------  ----- \n",
      " 0   seller_id               3095 non-null   object\n",
      " 1   seller_zip_code_prefix  3095 non-null   int64 \n",
      " 2   seller_city             3095 non-null   object\n",
      " 3   seller_state            3095 non-null   object\n",
      "dtypes: int64(1), object(3)\n",
      "memory usage: 96.8+ KB\n"
     ]
    }
   ],
   "source": [
    "sellers.info()"
   ]
  },
  {
   "cell_type": "code",
   "execution_count": null,
   "id": "45eaea49",
   "metadata": {},
   "outputs": [
    {
     "data": {
      "text/plain": [
       "(3095, 4)"
      ]
     },
     "metadata": {},
     "output_type": "display_data"
    }
   ],
   "source": [
    "sellers.shape"
   ]
  },
  {
   "cell_type": "markdown",
   "id": "65eb4903",
   "metadata": {},
   "source": [
    "<div style=\"background-color:#17DCD7;  padding:10px; border-radius:10px;\">\n",
    "    \n",
    "  <p style=\"color:#D67218; text-align:center; font-size:20px;\"> category_translation</p>\n",
    " \n",
    "</div>"
   ]
  },
  {
   "cell_type": "markdown",
   "id": "b0182a7b",
   "metadata": {},
   "source": [
    "<div style=\"background-color:#9DEBA8;  padding:10px; border-radius:5px;\">\n",
    "    \n",
    "  <p style=\"color:#D67218; text-align:center; font-size:15px;\"> Preliminary statistical analysis </p>\n",
    " \n",
    "</div>"
   ]
  },
  {
   "cell_type": "code",
   "execution_count": null,
   "id": "c84dd48a",
   "metadata": {},
   "outputs": [
    {
     "name": "stdout",
     "output_type": "stream",
     "text": [
      "<class 'pandas.core.frame.DataFrame'>\n",
      "RangeIndex: 71 entries, 0 to 70\n",
      "Data columns (total 2 columns):\n",
      " #   Column                         Non-Null Count  Dtype \n",
      "---  ------                         --------------  ----- \n",
      " 0   product_category_name          71 non-null     object\n",
      " 1   product_category_name_english  71 non-null     object\n",
      "dtypes: object(2)\n",
      "memory usage: 1.2+ KB\n"
     ]
    }
   ],
   "source": [
    "category_translation.info()"
   ]
  },
  {
   "cell_type": "code",
   "execution_count": null,
   "id": "a1726e95",
   "metadata": {},
   "outputs": [
    {
     "data": {
      "text/plain": [
       "(71, 2)"
      ]
     },
     "metadata": {},
     "output_type": "display_data"
    }
   ],
   "source": [
    "category_translation.shape"
   ]
  }
 ],
 "metadata": {
  "language_info": {
   "name": "python"
  }
 },
 "nbformat": 4,
 "nbformat_minor": 5
}
