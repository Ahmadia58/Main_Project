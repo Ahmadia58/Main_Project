{
 "cells": [
  {
   "cell_type": "markdown",
   "id": "0b450918",
   "metadata": {},
   "source": [
    "<div style=\"background-color:#4EA72E;  padding:5px; border-radius:20px;\">\n",
    "    \n",
    "  <p style=\"color:#DC2512; text-align:center; font-size:40px;\"> clean_orders  </p>\n",
    " \n",
    "</div>"
   ]
  },
  {
   "cell_type": "markdown",
   "id": "e36c62fa",
   "metadata": {},
   "source": [
    "<div style=\"background-color:#17DCD7;  padding:10px; border-radius:10px;\">\n",
    "    \n",
    "  <p style=\"color:#D67218; text-align:center; font-size:20px;\"> Import Library  </p>\n",
    " \n",
    "</div>"
   ]
  },
  {
   "cell_type": "code",
   "execution_count": null,
   "id": "27d35d06",
   "metadata": {},
   "outputs": [],
   "source": [
    "import numpy as np\n",
    "import pandas as pd\n",
    "import matplotlib.pyplot as plt\n",
    "import seaborn as sns\n"
   ]
  },
  {
   "cell_type": "markdown",
   "id": "9088b33f",
   "metadata": {},
   "source": [
    "<div style=\"background-color:#17DCD7;  padding:10px; border-radius:10px;\">\n",
    "    \n",
    "  <p style=\"color:#D67218; text-align:center; font-size:20px;\"> Insert Data  </p>\n",
    " \n",
    "</div>"
   ]
  },
  {
   "cell_type": "code",
   "execution_count": null,
   "id": "c0a2cd28",
   "metadata": {},
   "outputs": [],
   "source": [
    "customers=pd.read_csv('/Users/Ahmad/ecommerce_data_engineering/Raw_data/olist_customers_dataset.csv')\n",
    "\n",
    "geo=pd.read_csv('/Users/Ahmad/ecommerce_data_engineering/Raw_data/olist_geolocation_dataset.csv')\n",
    "order_items=pd.read_csv('/Users/Ahmad/ecommerce_data_engineering/Raw_data/olist_order_items_dataset.csv')\n",
    "order_payments=pd.read_csv('/Users/Ahmad/ecommerce_data_engineering/Raw_data/olist_order_payments_dataset.csv')\n",
    "order_reviews=pd.read_csv('/Users/Ahmad/ecommerce_data_engineering/Raw_data/olist_order_reviews_dataset.csv')\n",
    "order_dataset=pd.read_csv('/Users/Ahmad/ecommerce_data_engineering/Raw_data/olist_orders_dataset.csv')\n",
    "products=pd.read_csv('/Users/Ahmad/ecommerce_data_engineering/Raw_data/olist_products_dataset.csv')\n",
    "sellers=pd.read_csv('/Users/Ahmad/ecommerce_data_engineering/Raw_data/olist_sellers_dataset.csv')\n",
    "category_translation=pd.read_csv('/Users/Ahmad/ecommerce_data_engineering/Raw_data/product_category_name_translation.csv')\n"
   ]
  },
  {
   "cell_type": "markdown",
   "id": "52aa5306",
   "metadata": {},
   "source": [
    "<div style=\"background-color:#17DCD7;  padding:10px; border-radius:10px;\">\n",
    "    \n",
    "  <p style=\"color:#D67218; text-align:center; font-size:20px;\"> order_items </p>\n",
    " \n",
    "</div>"
   ]
  },
  {
   "cell_type": "code",
   "execution_count": null,
   "id": "239680d9",
   "metadata": {},
   "outputs": [
    {
     "name": "stdout",
     "output_type": "stream",
     "text": [
      "124        85.97\n",
      "162        87.28\n",
      "352        97.56\n",
      "456        98.13\n",
      "590        94.98\n",
      "           ...  \n",
      "112014     86.77\n",
      "112233    193.21\n",
      "112359    170.11\n",
      "112450     84.52\n",
      "112472    127.55\n",
      "Name: freight_value, Length: 1128, dtype: float64\n",
      "Q99: 84.52\n",
      "outlier_freight_value99: 1128\n",
      "0         13.29\n",
      "1         19.93\n",
      "2         17.87\n",
      "3         12.79\n",
      "4         18.14\n",
      "          ...  \n",
      "112645    43.41\n",
      "112646    36.53\n",
      "112647    16.95\n",
      "112648     8.72\n",
      "112649    12.79\n",
      "Name: freight_value, Length: 111522, dtype: float64\n"
     ]
    }
   ],
   "source": [
    "Q99 = order_items['freight_value'].quantile(.99)\n",
    "outliers = order_items[(order_items['freight_value'] >= Q99)]\n",
    "print(outliers['freight_value'])\n",
    "print(\"Q99:\",  Q99)\n",
    "print(\"outlier_freight_value99:\",outliers['freight_value'].value_counts().sum())\n",
    "order_items=order_items[order_items['freight_value']<Q99]\n",
    "print(order_items['freight_value'])"
   ]
  },
  {
   "cell_type": "code",
   "execution_count": null,
   "id": "26f52765",
   "metadata": {},
   "outputs": [
    {
     "data": {
      "text/plain": [
       "0"
      ]
     },
     "metadata": {},
     "output_type": "display_data"
    }
   ],
   "source": [
    "order_items[order_items['freight_value']<0].value_counts().sum()"
   ]
  },
  {
   "cell_type": "markdown",
   "id": "1b023e00",
   "metadata": {},
   "source": [
    "<div style=\"background-color:#92D050;  padding:10px; border-radius:5px;\">\n",
    "    \n",
    "  <p style=\"color:#EB2213; text-align:center; font-size:15px;\"> Cleaning </p>\n",
    " \n",
    "</div>"
   ]
  },
  {
   "cell_type": "code",
   "execution_count": null,
   "id": "f472902f",
   "metadata": {},
   "outputs": [],
   "source": [
    "\n",
    "filtered_df = order_items[order_items['freight_value']>=Q99]\n",
    "order_items = order_items.drop(index=filtered_df.index)\n",
    "order_items['shipping_limit_date']=pd.to_datetime(order_items['shipping_limit_date'])\n"
   ]
  },
  {
   "cell_type": "markdown",
   "id": "8355f1a9",
   "metadata": {},
   "source": [
    "<div style=\"background-color:#17DCD7;  padding:10px; border-radius:10px;\">\n",
    "    \n",
    "  <p style=\"color:#D67218; text-align:center; font-size:20px;\"> order_reviews</p>\n",
    " \n",
    "</div>"
   ]
  },
  {
   "cell_type": "markdown",
   "id": "ec0342bd",
   "metadata": {},
   "source": [
    "<div style=\"background-color:#92D050;  padding:10px; border-radius:5px;\">\n",
    "    \n",
    "  <p style=\"color:#EB2213; text-align:center; font-size:15px;\"> Cleaning </p>\n",
    " \n",
    "</div>"
   ]
  },
  {
   "cell_type": "code",
   "execution_count": null,
   "id": "e438b819",
   "metadata": {},
   "outputs": [],
   "source": [
    "order_reviews['review_comment_title']=order_reviews['review_comment_title'].fillna('NoTitle')\n",
    "order_reviews['review_comment_message']=order_reviews['review_comment_message'].fillna('Nomessage')"
   ]
  },
  {
   "cell_type": "markdown",
   "id": "070b53af",
   "metadata": {},
   "source": [
    "<div style=\"background-color:#17DCD7;  padding:10px; border-radius:10px;\">\n",
    "    \n",
    "  <p style=\"color:#D67218; text-align:center; font-size:20px;\"> order_dataset</p>\n",
    " \n",
    "</div>"
   ]
  },
  {
   "cell_type": "code",
   "execution_count": null,
   "id": "f7028ac3",
   "metadata": {},
   "outputs": [],
   "source": [
    "order_dataset['order_purchase_timestamp']=pd.to_datetime(order_dataset['order_purchase_timestamp'])\n",
    "order_dataset['order_approved_at']=pd.to_datetime(order_dataset['order_approved_at'])\n",
    "order_dataset['order_delivered_carrier_date']=pd.to_datetime(order_dataset['order_delivered_carrier_date'])\n",
    "order_dataset['order_delivered_customer_date']=pd.to_datetime(order_dataset['order_delivered_customer_date'])\n",
    "order_dataset['order_estimated_delivery_date']=pd.to_datetime(order_dataset['order_estimated_delivery_date'])"
   ]
  },
  {
   "cell_type": "code",
   "execution_count": null,
   "id": "eb38a057",
   "metadata": {},
   "outputs": [],
   "source": [
    " order_dataset['start_end']=order_dataset['order_delivered_carrier_date']>order_dataset['order_delivered_customer_date']"
   ]
  },
  {
   "cell_type": "code",
   "execution_count": null,
   "id": "0354b21a",
   "metadata": {},
   "outputs": [
    {
     "name": "stdout",
     "output_type": "stream",
     "text": [
      "Outlier: 0        False\n",
      "1        False\n",
      "2        False\n",
      "3        False\n",
      "4        False\n",
      "         ...  \n",
      "99436    False\n",
      "99437    False\n",
      "99438    False\n",
      "99439    False\n",
      "99440    False\n",
      "Name: start_end, Length: 99441, dtype: bool\n"
     ]
    }
   ],
   "source": [
    "print(\"Outlier:\", order_dataset['start_end'])"
   ]
  },
  {
   "cell_type": "code",
   "execution_count": null,
   "id": "247db095",
   "metadata": {},
   "outputs": [
    {
     "name": "stdout",
     "output_type": "stream",
     "text": [
      "True_Raws:       order_delivered_carrier_date order_delivered_customer_date\n",
      "6437           2017-07-28 16:57:58           2017-07-25 19:32:56\n",
      "9553           2017-07-07 17:22:41           2017-07-06 14:27:51\n",
      "13487          2017-07-20 19:22:02           2017-07-19 14:13:28\n",
      "14474          2017-08-01 18:23:30           2017-07-26 18:09:10\n",
      "19268          2017-07-20 23:03:42           2017-07-20 18:52:41\n",
      "21338          2016-10-26 11:41:53           2016-10-25 17:51:46\n",
      "22520          2017-06-27 14:51:54           2017-06-26 15:45:35\n",
      "25393          2017-08-10 18:28:56           2017-08-10 18:05:38\n",
      "25646          2017-08-01 18:17:47           2017-07-31 17:49:56\n",
      "27470          2017-08-09 18:18:43           2017-08-01 21:13:01\n",
      "34939          2017-03-02 17:34:26           2017-02-14 15:15:57\n",
      "41636          2017-02-20 02:32:08           2017-02-15 03:53:46\n",
      "45302          2017-06-09 15:07:29           2017-06-02 11:09:16\n",
      "49933          2016-10-26 11:43:06           2016-10-20 18:03:17\n",
      "50373          2017-07-14 12:41:34           2017-07-12 20:49:42\n",
      "58428          2017-08-04 20:04:17           2017-08-03 20:30:00\n",
      "68312          2017-07-11 18:15:40           2017-07-11 17:41:26\n",
      "71227          2016-10-26 11:42:05           2016-10-20 19:07:54\n",
      "74967          2017-02-15 08:55:26           2017-02-10 07:58:32\n",
      "76120          2017-03-30 13:14:34           2017-03-28 17:28:32\n",
      "78556          2017-07-27 19:21:31           2017-07-25 19:43:10\n",
      "90373          2017-08-12 00:03:35           2017-08-10 21:22:31\n",
      "95634          2016-10-21 18:02:40           2016-10-20 20:33:27\n",
      "True_Raws_number: 23\n"
     ]
    }
   ],
   "source": [
    "True_Raws=order_dataset[order_dataset['start_end']==True]\n",
    "print(\"True_Raws:\", True_Raws[['order_delivered_carrier_date','order_delivered_customer_date' ]])\n",
    "print(\"True_Raws_number:\",True_Raws.value_counts().sum())"
   ]
  },
  {
   "cell_type": "code",
   "execution_count": null,
   "id": "d47f17e8",
   "metadata": {},
   "outputs": [
    {
     "name": "stdout",
     "output_type": "stream",
     "text": [
      "outlier_date: <bound method Series.sum of False    99418\n",
      "True        23\n",
      "Name: count, dtype: int64>\n"
     ]
    }
   ],
   "source": [
    "print(\"outlier_date:\", (order_dataset['order_delivered_carrier_date']>order_dataset['order_delivered_customer_date']).value_counts().sum)"
   ]
  },
  {
   "cell_type": "markdown",
   "id": "7a6b681c",
   "metadata": {},
   "source": [
    "<div style=\"background-color:#92D050;  padding:10px; border-radius:5px;\">\n",
    "    \n",
    "  <p style=\"color:#EB2213; text-align:center; font-size:15px;\"> Cleaning </p>\n",
    " \n",
    "</div>"
   ]
  },
  {
   "cell_type": "code",
   "execution_count": null,
   "id": "1ccacec2",
   "metadata": {},
   "outputs": [],
   "source": [
    "order_dataset['order_purchase_timestamp']=pd.to_datetime(order_dataset['order_purchase_timestamp'])\n",
    "order_dataset['order_approved_at']=pd.to_datetime(order_dataset['order_approved_at'])\n",
    "order_dataset['order_delivered_carrier_date']=pd.to_datetime(order_dataset['order_delivered_carrier_date'])\n",
    "order_dataset['order_delivered_customer_date']=pd.to_datetime(order_dataset['order_delivered_customer_date'])\n",
    "order_dataset['order_estimated_delivery_date']=pd.to_datetime(order_dataset['order_estimated_delivery_date'])"
   ]
  },
  {
   "cell_type": "code",
   "execution_count": null,
   "id": "1be126b6",
   "metadata": {},
   "outputs": [],
   "source": [
    "\n",
    "filtered_order_dataset = order_dataset[order_dataset['order_delivered_carrier_date']>order_dataset['order_delivered_customer_date']]\n",
    "order_dataset = order_dataset.drop(index=filtered_order_dataset.index)\n"
   ]
  },
  {
   "cell_type": "code",
   "execution_count": null,
   "id": "da39cc2f",
   "metadata": {},
   "outputs": [],
   "source": [
    "order_dataset=order_dataset.dropna(subset=['order_approved_at','order_delivered_carrier_date','order_delivered_customer_date'])"
   ]
  },
  {
   "cell_type": "markdown",
   "id": "08da1fad",
   "metadata": {},
   "source": [
    "<div style=\"background-color:#17DCD7;  padding:10px; border-radius:10px;\">\n",
    "    \n",
    "  <p style=\"color:#D67218; text-align:center; font-size:20px;\"> products</p>\n",
    " \n",
    "</div>"
   ]
  },
  {
   "cell_type": "code",
   "execution_count": null,
   "id": "b381a74b",
   "metadata": {},
   "outputs": [],
   "source": []
  },
  {
   "cell_type": "markdown",
   "id": "8aad9d0c",
   "metadata": {},
   "source": [
    "<div style=\"background-color:#92D050;  padding:10px; border-radius:5px;\">\n",
    "    \n",
    "  <p style=\"color:#EB2213; text-align:center; font-size:15px;\"> Cleaning </p>\n",
    " \n",
    "</div>"
   ]
  },
  {
   "cell_type": "code",
   "execution_count": null,
   "id": "9594232f",
   "metadata": {},
   "outputs": [],
   "source": [
    "products=products.dropna(subset=['product_category_name', 'product_name_lenght','product_description_lenght','product_photos_qty','product_weight_g'])"
   ]
  }
 ],
 "metadata": {
  "language_info": {
   "name": "python"
  }
 },
 "nbformat": 4,
 "nbformat_minor": 5
}
